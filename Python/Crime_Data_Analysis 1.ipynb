{
 "cells": [
  {
   "cell_type": "code",
   "execution_count": 1,
   "id": "initial_id",
   "metadata": {
    "ExecuteTime": {
     "end_time": "2024-04-14T18:06:19.186538Z",
     "start_time": "2024-04-14T18:06:19.182850Z"
    }
   },
   "outputs": [],
   "source": [
    "import pandas as pd\n",
    "from sklearn.cluster import KMeans\n",
    "from sklearn.preprocessing import StandardScaler\n",
    "from sklearn.decomposition import PCA\n",
    "import matplotlib.pyplot as plt\n",
    "import seaborn as sns\n",
    "import sweetviz as sv\n",
    "import numpy as np"
   ]
  },
  {
   "cell_type": "markdown",
   "id": "35ffce5ffd8dfec0",
   "metadata": {},
   "source": [
    "## Data Exploration"
   ]
  },
  {
   "cell_type": "code",
   "execution_count": 2,
   "id": "e5947d7a16418b67",
   "metadata": {
    "ExecuteTime": {
     "end_time": "2024-04-14T17:55:11.133885Z",
     "start_time": "2024-04-14T17:55:09.856237Z"
    }
   },
   "outputs": [
    {
     "data": {
      "text/html": [
       "<div>\n",
       "<style scoped>\n",
       "    .dataframe tbody tr th:only-of-type {\n",
       "        vertical-align: middle;\n",
       "    }\n",
       "\n",
       "    .dataframe tbody tr th {\n",
       "        vertical-align: top;\n",
       "    }\n",
       "\n",
       "    .dataframe thead th {\n",
       "        text-align: right;\n",
       "    }\n",
       "</style>\n",
       "<table border=\"1\" class=\"dataframe\">\n",
       "  <thead>\n",
       "    <tr style=\"text-align: right;\">\n",
       "      <th></th>\n",
       "      <th>Unnamed: 0</th>\n",
       "      <th>community_area</th>\n",
       "      <th>primary_type</th>\n",
       "      <th>Description</th>\n",
       "      <th>Arrest</th>\n",
       "      <th>Domestic</th>\n",
       "      <th>location_description</th>\n",
       "      <th>Date</th>\n",
       "      <th>Comm_Area</th>\n",
       "      <th>Hardship_Score</th>\n",
       "      <th>Crowded_Housing_Per</th>\n",
       "      <th>Below_Poverty_Household_Income</th>\n",
       "      <th>Unemployment_Rate</th>\n",
       "      <th>No_High_School_Diploma</th>\n",
       "      <th>Under_18_over_64</th>\n",
       "      <th>Per_Capita_Income</th>\n",
       "    </tr>\n",
       "  </thead>\n",
       "  <tbody>\n",
       "    <tr>\n",
       "      <th>0</th>\n",
       "      <td>0</td>\n",
       "      <td>63</td>\n",
       "      <td>OFFENSE AND KIDNAPPING</td>\n",
       "      <td>SEXUAL ASSAULT OF CHILD BY FAMILY MEMBER</td>\n",
       "      <td>False</td>\n",
       "      <td>True</td>\n",
       "      <td>APARTMENT</td>\n",
       "      <td>2015-09-24T00:00:00.000000</td>\n",
       "      <td>Gage Park</td>\n",
       "      <td>65.3</td>\n",
       "      <td>12.1</td>\n",
       "      <td>18.5</td>\n",
       "      <td>13.7</td>\n",
       "      <td>22.4</td>\n",
       "      <td>39.0</td>\n",
       "      <td>13605.0</td>\n",
       "    </tr>\n",
       "    <tr>\n",
       "      <th>1</th>\n",
       "      <td>1</td>\n",
       "      <td>63</td>\n",
       "      <td>OFFENSE AND KIDNAPPING</td>\n",
       "      <td>SEXUAL ASSAULT OF CHILD BY FAMILY MEMBER</td>\n",
       "      <td>False</td>\n",
       "      <td>True</td>\n",
       "      <td>APARTMENT</td>\n",
       "      <td>2014-09-07T00:00:00.000000</td>\n",
       "      <td>Gage Park</td>\n",
       "      <td>65.3</td>\n",
       "      <td>12.1</td>\n",
       "      <td>18.5</td>\n",
       "      <td>13.7</td>\n",
       "      <td>22.4</td>\n",
       "      <td>39.0</td>\n",
       "      <td>13605.0</td>\n",
       "    </tr>\n",
       "    <tr>\n",
       "      <th>2</th>\n",
       "      <td>2</td>\n",
       "      <td>30</td>\n",
       "      <td>OFFENSE AND KIDNAPPING</td>\n",
       "      <td>AGGRAVATED CRIMINAL SEXUAL ABUSE BY FAMILY MEMBER</td>\n",
       "      <td>False</td>\n",
       "      <td>True</td>\n",
       "      <td>RESIDENCE</td>\n",
       "      <td>2015-06-18T00:00:00.000000</td>\n",
       "      <td>South Lawndale</td>\n",
       "      <td>70.6</td>\n",
       "      <td>13.6</td>\n",
       "      <td>30.3</td>\n",
       "      <td>8.7</td>\n",
       "      <td>28.8</td>\n",
       "      <td>35.3</td>\n",
       "      <td>11345.0</td>\n",
       "    </tr>\n",
       "    <tr>\n",
       "      <th>3</th>\n",
       "      <td>3</td>\n",
       "      <td>46</td>\n",
       "      <td>PUBLIC ORDER CRIMES</td>\n",
       "      <td>FINANCIAL IDENTITY THEFT OVER $ 300</td>\n",
       "      <td>False</td>\n",
       "      <td>False</td>\n",
       "      <td>APARTMENT</td>\n",
       "      <td>2013-08-27T00:00:00.000000</td>\n",
       "      <td>South Chicago</td>\n",
       "      <td>54.9</td>\n",
       "      <td>3.4</td>\n",
       "      <td>28.9</td>\n",
       "      <td>20.3</td>\n",
       "      <td>11.6</td>\n",
       "      <td>41.1</td>\n",
       "      <td>16996.0</td>\n",
       "    </tr>\n",
       "    <tr>\n",
       "      <th>4</th>\n",
       "      <td>4</td>\n",
       "      <td>16</td>\n",
       "      <td>THEFT</td>\n",
       "      <td>OVER $500</td>\n",
       "      <td>False</td>\n",
       "      <td>False</td>\n",
       "      <td>RESIDENCE</td>\n",
       "      <td>2017-07-14T00:30:00.000000</td>\n",
       "      <td>Irving Park</td>\n",
       "      <td>32.3</td>\n",
       "      <td>3.5</td>\n",
       "      <td>10.3</td>\n",
       "      <td>5.8</td>\n",
       "      <td>10.3</td>\n",
       "      <td>30.2</td>\n",
       "      <td>31043.0</td>\n",
       "    </tr>\n",
       "  </tbody>\n",
       "</table>\n",
       "</div>"
      ],
      "text/plain": [
       "   Unnamed: 0  community_area            primary_type  \\\n",
       "0           0              63  OFFENSE AND KIDNAPPING   \n",
       "1           1              63  OFFENSE AND KIDNAPPING   \n",
       "2           2              30  OFFENSE AND KIDNAPPING   \n",
       "3           3              46     PUBLIC ORDER CRIMES   \n",
       "4           4              16                   THEFT   \n",
       "\n",
       "                                         Description  Arrest  Domestic  \\\n",
       "0           SEXUAL ASSAULT OF CHILD BY FAMILY MEMBER   False      True   \n",
       "1           SEXUAL ASSAULT OF CHILD BY FAMILY MEMBER   False      True   \n",
       "2  AGGRAVATED CRIMINAL SEXUAL ABUSE BY FAMILY MEMBER   False      True   \n",
       "3                FINANCIAL IDENTITY THEFT OVER $ 300   False     False   \n",
       "4                                          OVER $500   False     False   \n",
       "\n",
       "  location_description                        Date       Comm_Area  \\\n",
       "0            APARTMENT  2015-09-24T00:00:00.000000       Gage Park   \n",
       "1            APARTMENT  2014-09-07T00:00:00.000000       Gage Park   \n",
       "2            RESIDENCE  2015-06-18T00:00:00.000000  South Lawndale   \n",
       "3            APARTMENT  2013-08-27T00:00:00.000000   South Chicago   \n",
       "4            RESIDENCE  2017-07-14T00:30:00.000000     Irving Park   \n",
       "\n",
       "   Hardship_Score  Crowded_Housing_Per  Below_Poverty_Household_Income  \\\n",
       "0            65.3                 12.1                            18.5   \n",
       "1            65.3                 12.1                            18.5   \n",
       "2            70.6                 13.6                            30.3   \n",
       "3            54.9                  3.4                            28.9   \n",
       "4            32.3                  3.5                            10.3   \n",
       "\n",
       "   Unemployment_Rate  No_High_School_Diploma  Under_18_over_64  \\\n",
       "0               13.7                    22.4              39.0   \n",
       "1               13.7                    22.4              39.0   \n",
       "2                8.7                    28.8              35.3   \n",
       "3               20.3                    11.6              41.1   \n",
       "4                5.8                    10.3              30.2   \n",
       "\n",
       "   Per_Capita_Income  \n",
       "0            13605.0  \n",
       "1            13605.0  \n",
       "2            11345.0  \n",
       "3            16996.0  \n",
       "4            31043.0  "
      ]
     },
     "execution_count": 2,
     "metadata": {},
     "output_type": "execute_result"
    }
   ],
   "source": [
    "dataset = pd.read_csv('./dataset.csv')\n",
    "dataset.head()"
   ]
  },
  {
   "cell_type": "code",
   "execution_count": 3,
   "id": "e8ba5e9bb41c905e",
   "metadata": {
    "ExecuteTime": {
     "end_time": "2024-04-14T17:55:11.140413Z",
     "start_time": "2024-04-14T17:55:11.134883Z"
    }
   },
   "outputs": [
    {
     "data": {
      "text/plain": [
       "Unnamed: 0                          int64\n",
       "community_area                      int64\n",
       "primary_type                       object\n",
       "Description                        object\n",
       "Arrest                               bool\n",
       "Domestic                             bool\n",
       "location_description               object\n",
       "Date                               object\n",
       "Comm_Area                          object\n",
       "Hardship_Score                    float64\n",
       "Crowded_Housing_Per               float64\n",
       "Below_Poverty_Household_Income    float64\n",
       "Unemployment_Rate                 float64\n",
       "No_High_School_Diploma            float64\n",
       "Under_18_over_64                  float64\n",
       "Per_Capita_Income                 float64\n",
       "dtype: object"
      ]
     },
     "execution_count": 3,
     "metadata": {},
     "output_type": "execute_result"
    }
   ],
   "source": [
    "dataset.dtypes"
   ]
  },
  {
   "cell_type": "code",
   "execution_count": 4,
   "id": "d42e2d5e7a038956",
   "metadata": {
    "ExecuteTime": {
     "end_time": "2024-04-14T17:55:11.434372Z",
     "start_time": "2024-04-14T17:55:11.141410Z"
    }
   },
   "outputs": [
    {
     "data": {
      "text/html": [
       "<div>\n",
       "<style scoped>\n",
       "    .dataframe tbody tr th:only-of-type {\n",
       "        vertical-align: middle;\n",
       "    }\n",
       "\n",
       "    .dataframe tbody tr th {\n",
       "        vertical-align: top;\n",
       "    }\n",
       "\n",
       "    .dataframe thead th {\n",
       "        text-align: right;\n",
       "    }\n",
       "</style>\n",
       "<table border=\"1\" class=\"dataframe\">\n",
       "  <thead>\n",
       "    <tr style=\"text-align: right;\">\n",
       "      <th></th>\n",
       "      <th>Unnamed: 0</th>\n",
       "      <th>community_area</th>\n",
       "      <th>Hardship_Score</th>\n",
       "      <th>Crowded_Housing_Per</th>\n",
       "      <th>Below_Poverty_Household_Income</th>\n",
       "      <th>Unemployment_Rate</th>\n",
       "      <th>No_High_School_Diploma</th>\n",
       "      <th>Under_18_over_64</th>\n",
       "      <th>Per_Capita_Income</th>\n",
       "    </tr>\n",
       "  </thead>\n",
       "  <tbody>\n",
       "    <tr>\n",
       "      <th>count</th>\n",
       "      <td>1.045251e+06</td>\n",
       "      <td>1.045251e+06</td>\n",
       "      <td>1.045251e+06</td>\n",
       "      <td>1.045251e+06</td>\n",
       "      <td>1.045251e+06</td>\n",
       "      <td>1.045251e+06</td>\n",
       "      <td>1.045251e+06</td>\n",
       "      <td>1.045251e+06</td>\n",
       "      <td>1.045251e+06</td>\n",
       "    </tr>\n",
       "    <tr>\n",
       "      <th>mean</th>\n",
       "      <td>5.226250e+05</td>\n",
       "      <td>3.699696e+01</td>\n",
       "      <td>4.362114e+01</td>\n",
       "      <td>4.158709e+00</td>\n",
       "      <td>2.312322e+01</td>\n",
       "      <td>1.366700e+01</td>\n",
       "      <td>1.083967e+01</td>\n",
       "      <td>3.404307e+01</td>\n",
       "      <td>3.066696e+04</td>\n",
       "    </tr>\n",
       "    <tr>\n",
       "      <th>std</th>\n",
       "      <td>3.017381e+05</td>\n",
       "      <td>2.165766e+01</td>\n",
       "      <td>1.821669e+01</td>\n",
       "      <td>2.696893e+00</td>\n",
       "      <td>1.029274e+01</td>\n",
       "      <td>8.191263e+00</td>\n",
       "      <td>6.004282e+00</td>\n",
       "      <td>7.526130e+00</td>\n",
       "      <td>2.150851e+04</td>\n",
       "    </tr>\n",
       "    <tr>\n",
       "      <th>min</th>\n",
       "      <td>0.000000e+00</td>\n",
       "      <td>1.000000e+00</td>\n",
       "      <td>8.600000e+00</td>\n",
       "      <td>3.000000e-01</td>\n",
       "      <td>4.300000e+00</td>\n",
       "      <td>2.900000e+00</td>\n",
       "      <td>1.400000e+00</td>\n",
       "      <td>1.670000e+01</td>\n",
       "      <td>9.601000e+03</td>\n",
       "    </tr>\n",
       "    <tr>\n",
       "      <th>25%</th>\n",
       "      <td>2.613125e+05</td>\n",
       "      <td>2.200000e+01</td>\n",
       "      <td>2.890000e+01</td>\n",
       "      <td>2.200000e+00</td>\n",
       "      <td>1.300000e+01</td>\n",
       "      <td>6.600000e+00</td>\n",
       "      <td>7.300000e+00</td>\n",
       "      <td>2.620000e+01</td>\n",
       "      <td>1.671900e+04</td>\n",
       "    </tr>\n",
       "    <tr>\n",
       "      <th>50%</th>\n",
       "      <td>5.226250e+05</td>\n",
       "      <td>3.200000e+01</td>\n",
       "      <td>5.040000e+01</td>\n",
       "      <td>3.300000e+00</td>\n",
       "      <td>2.330000e+01</td>\n",
       "      <td>1.210000e+01</td>\n",
       "      <td>9.700000e+00</td>\n",
       "      <td>3.750000e+01</td>\n",
       "      <td>2.006700e+04</td>\n",
       "    </tr>\n",
       "    <tr>\n",
       "      <th>75%</th>\n",
       "      <td>7.839375e+05</td>\n",
       "      <td>5.600000e+01</td>\n",
       "      <td>5.590000e+01</td>\n",
       "      <td>4.700000e+00</td>\n",
       "      <td>3.010000e+01</td>\n",
       "      <td>1.990000e+01</td>\n",
       "      <td>1.420000e+01</td>\n",
       "      <td>3.890000e+01</td>\n",
       "      <td>3.874800e+04</td>\n",
       "    </tr>\n",
       "    <tr>\n",
       "      <th>max</th>\n",
       "      <td>1.045250e+06</td>\n",
       "      <td>7.700000e+01</td>\n",
       "      <td>8.420000e+01</td>\n",
       "      <td>1.360000e+01</td>\n",
       "      <td>5.880000e+01</td>\n",
       "      <td>3.560000e+01</td>\n",
       "      <td>2.880000e+01</td>\n",
       "      <td>4.760000e+01</td>\n",
       "      <td>9.194800e+04</td>\n",
       "    </tr>\n",
       "  </tbody>\n",
       "</table>\n",
       "</div>"
      ],
      "text/plain": [
       "         Unnamed: 0  community_area  Hardship_Score  Crowded_Housing_Per  \\\n",
       "count  1.045251e+06    1.045251e+06    1.045251e+06         1.045251e+06   \n",
       "mean   5.226250e+05    3.699696e+01    4.362114e+01         4.158709e+00   \n",
       "std    3.017381e+05    2.165766e+01    1.821669e+01         2.696893e+00   \n",
       "min    0.000000e+00    1.000000e+00    8.600000e+00         3.000000e-01   \n",
       "25%    2.613125e+05    2.200000e+01    2.890000e+01         2.200000e+00   \n",
       "50%    5.226250e+05    3.200000e+01    5.040000e+01         3.300000e+00   \n",
       "75%    7.839375e+05    5.600000e+01    5.590000e+01         4.700000e+00   \n",
       "max    1.045250e+06    7.700000e+01    8.420000e+01         1.360000e+01   \n",
       "\n",
       "       Below_Poverty_Household_Income  Unemployment_Rate  \\\n",
       "count                    1.045251e+06       1.045251e+06   \n",
       "mean                     2.312322e+01       1.366700e+01   \n",
       "std                      1.029274e+01       8.191263e+00   \n",
       "min                      4.300000e+00       2.900000e+00   \n",
       "25%                      1.300000e+01       6.600000e+00   \n",
       "50%                      2.330000e+01       1.210000e+01   \n",
       "75%                      3.010000e+01       1.990000e+01   \n",
       "max                      5.880000e+01       3.560000e+01   \n",
       "\n",
       "       No_High_School_Diploma  Under_18_over_64  Per_Capita_Income  \n",
       "count            1.045251e+06      1.045251e+06       1.045251e+06  \n",
       "mean             1.083967e+01      3.404307e+01       3.066696e+04  \n",
       "std              6.004282e+00      7.526130e+00       2.150851e+04  \n",
       "min              1.400000e+00      1.670000e+01       9.601000e+03  \n",
       "25%              7.300000e+00      2.620000e+01       1.671900e+04  \n",
       "50%              9.700000e+00      3.750000e+01       2.006700e+04  \n",
       "75%              1.420000e+01      3.890000e+01       3.874800e+04  \n",
       "max              2.880000e+01      4.760000e+01       9.194800e+04  "
      ]
     },
     "execution_count": 4,
     "metadata": {},
     "output_type": "execute_result"
    }
   ],
   "source": [
    "dataset.describe() "
   ]
  },
  {
   "cell_type": "code",
   "execution_count": 5,
   "id": "fde0ca8b39cad7b1",
   "metadata": {
    "ExecuteTime": {
     "end_time": "2024-04-14T17:55:37.164189Z",
     "start_time": "2024-04-14T17:55:11.436458Z"
    }
   },
   "outputs": [
    {
     "data": {
      "application/vnd.jupyter.widget-view+json": {
       "model_id": "76635ca7c4504605b89908fc6164d900",
       "version_major": 2,
       "version_minor": 0
      },
      "text/plain": [
       "                                             |          | [  0%]   00:00 -> (? left)"
      ]
     },
     "metadata": {},
     "output_type": "display_data"
    },
    {
     "name": "stdout",
     "output_type": "stream",
     "text": [
      "Report report.html was generated! NOTEBOOK/COLAB USERS: the web browser MAY not pop up, regardless, the report IS saved in your notebook/colab files.\n"
     ]
    }
   ],
   "source": [
    "report = sv.analyze(dataset)\n",
    "\n",
    "# Display the report\n",
    "report.show_html('report.html')"
   ]
  },
  {
   "cell_type": "markdown",
   "id": "447be3331ba5fc40",
   "metadata": {},
   "source": [
    "## Data Preparation"
   ]
  },
  {
   "cell_type": "code",
   "execution_count": 6,
   "id": "c4ffaa601ed89f6",
   "metadata": {
    "ExecuteTime": {
     "end_time": "2024-04-14T17:55:38.438237Z",
     "start_time": "2024-04-14T17:55:37.165197Z"
    }
   },
   "outputs": [
    {
     "data": {
      "text/html": [
       "<div>\n",
       "<style scoped>\n",
       "    .dataframe tbody tr th:only-of-type {\n",
       "        vertical-align: middle;\n",
       "    }\n",
       "\n",
       "    .dataframe tbody tr th {\n",
       "        vertical-align: top;\n",
       "    }\n",
       "\n",
       "    .dataframe thead th {\n",
       "        text-align: right;\n",
       "    }\n",
       "</style>\n",
       "<table border=\"1\" class=\"dataframe\">\n",
       "  <thead>\n",
       "    <tr style=\"text-align: right;\">\n",
       "      <th></th>\n",
       "      <th>Unnamed: 0</th>\n",
       "      <th>community_area</th>\n",
       "      <th>primary_type</th>\n",
       "      <th>Description</th>\n",
       "      <th>Arrest</th>\n",
       "      <th>Domestic</th>\n",
       "      <th>location_description</th>\n",
       "      <th>Date</th>\n",
       "      <th>Comm_Area</th>\n",
       "      <th>Hardship_Score</th>\n",
       "      <th>Crowded_Housing_Per</th>\n",
       "      <th>Below_Poverty_Household_Income</th>\n",
       "      <th>Unemployment_Rate</th>\n",
       "      <th>No_High_School_Diploma</th>\n",
       "      <th>Under_18_over_64</th>\n",
       "      <th>Per_Capita_Income</th>\n",
       "    </tr>\n",
       "  </thead>\n",
       "  <tbody>\n",
       "    <tr>\n",
       "      <th>0</th>\n",
       "      <td>0</td>\n",
       "      <td>63</td>\n",
       "      <td>OFFENSE AND KIDNAPPING</td>\n",
       "      <td>SEXUAL ASSAULT OF CHILD BY FAMILY MEMBER</td>\n",
       "      <td>False</td>\n",
       "      <td>True</td>\n",
       "      <td>APARTMENT</td>\n",
       "      <td>2015-09-24T00:00:00.000000</td>\n",
       "      <td>Gage Park</td>\n",
       "      <td>65.3</td>\n",
       "      <td>12.1</td>\n",
       "      <td>18.5</td>\n",
       "      <td>13.7</td>\n",
       "      <td>22.4</td>\n",
       "      <td>39.0</td>\n",
       "      <td>13605.0</td>\n",
       "    </tr>\n",
       "    <tr>\n",
       "      <th>1</th>\n",
       "      <td>1</td>\n",
       "      <td>63</td>\n",
       "      <td>OFFENSE AND KIDNAPPING</td>\n",
       "      <td>SEXUAL ASSAULT OF CHILD BY FAMILY MEMBER</td>\n",
       "      <td>False</td>\n",
       "      <td>True</td>\n",
       "      <td>APARTMENT</td>\n",
       "      <td>2014-09-07T00:00:00.000000</td>\n",
       "      <td>Gage Park</td>\n",
       "      <td>65.3</td>\n",
       "      <td>12.1</td>\n",
       "      <td>18.5</td>\n",
       "      <td>13.7</td>\n",
       "      <td>22.4</td>\n",
       "      <td>39.0</td>\n",
       "      <td>13605.0</td>\n",
       "    </tr>\n",
       "    <tr>\n",
       "      <th>2</th>\n",
       "      <td>2</td>\n",
       "      <td>30</td>\n",
       "      <td>OFFENSE AND KIDNAPPING</td>\n",
       "      <td>AGGRAVATED CRIMINAL SEXUAL ABUSE BY FAMILY MEMBER</td>\n",
       "      <td>False</td>\n",
       "      <td>True</td>\n",
       "      <td>RESIDENCE</td>\n",
       "      <td>2015-06-18T00:00:00.000000</td>\n",
       "      <td>South Lawndale</td>\n",
       "      <td>70.6</td>\n",
       "      <td>13.6</td>\n",
       "      <td>30.3</td>\n",
       "      <td>8.7</td>\n",
       "      <td>28.8</td>\n",
       "      <td>35.3</td>\n",
       "      <td>11345.0</td>\n",
       "    </tr>\n",
       "    <tr>\n",
       "      <th>3</th>\n",
       "      <td>3</td>\n",
       "      <td>46</td>\n",
       "      <td>PUBLIC ORDER CRIMES</td>\n",
       "      <td>FINANCIAL IDENTITY THEFT OVER $ 300</td>\n",
       "      <td>False</td>\n",
       "      <td>False</td>\n",
       "      <td>APARTMENT</td>\n",
       "      <td>2013-08-27T00:00:00.000000</td>\n",
       "      <td>South Chicago</td>\n",
       "      <td>54.9</td>\n",
       "      <td>3.4</td>\n",
       "      <td>28.9</td>\n",
       "      <td>20.3</td>\n",
       "      <td>11.6</td>\n",
       "      <td>41.1</td>\n",
       "      <td>16996.0</td>\n",
       "    </tr>\n",
       "    <tr>\n",
       "      <th>4</th>\n",
       "      <td>4</td>\n",
       "      <td>16</td>\n",
       "      <td>THEFT</td>\n",
       "      <td>OVER $500</td>\n",
       "      <td>False</td>\n",
       "      <td>False</td>\n",
       "      <td>RESIDENCE</td>\n",
       "      <td>2017-07-14T00:30:00.000000</td>\n",
       "      <td>Irving Park</td>\n",
       "      <td>32.3</td>\n",
       "      <td>3.5</td>\n",
       "      <td>10.3</td>\n",
       "      <td>5.8</td>\n",
       "      <td>10.3</td>\n",
       "      <td>30.2</td>\n",
       "      <td>31043.0</td>\n",
       "    </tr>\n",
       "  </tbody>\n",
       "</table>\n",
       "</div>"
      ],
      "text/plain": [
       "   Unnamed: 0  community_area            primary_type  \\\n",
       "0           0              63  OFFENSE AND KIDNAPPING   \n",
       "1           1              63  OFFENSE AND KIDNAPPING   \n",
       "2           2              30  OFFENSE AND KIDNAPPING   \n",
       "3           3              46     PUBLIC ORDER CRIMES   \n",
       "4           4              16                   THEFT   \n",
       "\n",
       "                                         Description  Arrest  Domestic  \\\n",
       "0           SEXUAL ASSAULT OF CHILD BY FAMILY MEMBER   False      True   \n",
       "1           SEXUAL ASSAULT OF CHILD BY FAMILY MEMBER   False      True   \n",
       "2  AGGRAVATED CRIMINAL SEXUAL ABUSE BY FAMILY MEMBER   False      True   \n",
       "3                FINANCIAL IDENTITY THEFT OVER $ 300   False     False   \n",
       "4                                          OVER $500   False     False   \n",
       "\n",
       "  location_description                        Date       Comm_Area  \\\n",
       "0            APARTMENT  2015-09-24T00:00:00.000000       Gage Park   \n",
       "1            APARTMENT  2014-09-07T00:00:00.000000       Gage Park   \n",
       "2            RESIDENCE  2015-06-18T00:00:00.000000  South Lawndale   \n",
       "3            APARTMENT  2013-08-27T00:00:00.000000   South Chicago   \n",
       "4            RESIDENCE  2017-07-14T00:30:00.000000     Irving Park   \n",
       "\n",
       "   Hardship_Score  Crowded_Housing_Per  Below_Poverty_Household_Income  \\\n",
       "0            65.3                 12.1                            18.5   \n",
       "1            65.3                 12.1                            18.5   \n",
       "2            70.6                 13.6                            30.3   \n",
       "3            54.9                  3.4                            28.9   \n",
       "4            32.3                  3.5                            10.3   \n",
       "\n",
       "   Unemployment_Rate  No_High_School_Diploma  Under_18_over_64  \\\n",
       "0               13.7                    22.4              39.0   \n",
       "1               13.7                    22.4              39.0   \n",
       "2                8.7                    28.8              35.3   \n",
       "3               20.3                    11.6              41.1   \n",
       "4                5.8                    10.3              30.2   \n",
       "\n",
       "   Per_Capita_Income  \n",
       "0            13605.0  \n",
       "1            13605.0  \n",
       "2            11345.0  \n",
       "3            16996.0  \n",
       "4            31043.0  "
      ]
     },
     "execution_count": 6,
     "metadata": {},
     "output_type": "execute_result"
    }
   ],
   "source": [
    "dataset.loc[dataset['primary_type']=='OFFENSE INVOLVING CHILDREN', 'primary_type'] = 'OFFENSE AND KIDNAPPING'\n",
    "dataset.loc[dataset['primary_type']=='OTHER OFFENSE', 'primary_type'] = 'OFFENSE AND KIDNAPPING'\n",
    "dataset.loc[dataset['primary_type']=='KIDNAPPING', 'primary_type'] = 'OFFENSE AND KIDNAPPING'\n",
    "\n",
    "dataset.loc[dataset['primary_type']=='GAMBLING', 'primary_type'] = 'PUBLIC ORDER CRIMES'\n",
    "dataset.loc[dataset['primary_type']=='PUBLIC PEACE VIOLATION', 'primary_type'] = 'PUBLIC ORDER CRIMES'\n",
    "dataset.loc[dataset['primary_type']=='LIQUOR LAW VIOLATION', 'primary_type'] = 'PUBLIC ORDER CRIMES'\n",
    "dataset.loc[dataset['primary_type']=='CRIMINAL TRESPASS', 'primary_type'] = 'PUBLIC ORDER CRIMES'\n",
    "dataset.loc[dataset['primary_type']=='CONCEALED CARRY LICENSE VIOLATION', 'primary_type'] = 'PUBLIC ORDER CRIMES'\n",
    "dataset.loc[dataset['primary_type']=='STALKING', 'primary_type'] = 'PUBLIC ORDER CRIMES'\n",
    "dataset.loc[dataset['primary_type']=='OBSCENITY', 'primary_type'] = 'PUBLIC ORDER CRIMES'\n",
    "dataset.loc[dataset['primary_type']=='ARSON', 'primary_type'] = 'PUBLIC ORDER CRIMES'\n",
    "dataset.loc[dataset['primary_type']=='DECEPTIVE PRACTICE', 'primary_type'] = 'PUBLIC ORDER CRIMES'\n",
    "dataset.loc[dataset['primary_type']=='INTERFERENCE WITH PUBLIC OFFICER', 'primary_type'] = 'PUBLIC ORDER CRIMES'\n",
    "\n",
    "dataset.loc[dataset['primary_type']=='CRIMINAL SEXUAL ASSAULT', 'primary_type'] = 'SEXUAL ASSAULT'\n",
    "dataset.loc[dataset['primary_type']=='SEX OFFENSE', 'primary_type'] = 'SEXUAL ASSAULT'\n",
    "dataset.loc[dataset['primary_type']=='CRIM SEXUAL ASSAULT', 'primary_type'] = 'SEXUAL ASSAULT'\n",
    "dataset.loc[dataset['primary_type']=='PROSTITUTION', 'primary_type'] = 'SEXUAL ASSAULT'\n",
    "dataset.loc[dataset['primary_type']=='HUMAN TRAFFICKING', 'primary_type'] = 'SEXUAL ASSAULT'\n",
    "\n",
    "dataset.loc[dataset['primary_type']=='THEFT', 'primary_type'] = 'THEFT'\n",
    "dataset.loc[dataset['primary_type']=='MOTOR VEHICLE THEFT', 'primary_type'] = 'THEFT'\n",
    "dataset.loc[dataset['primary_type']=='BURGLARY', 'primary_type'] = 'THEFT'\n",
    "dataset.loc[dataset['primary_type']=='ROBBERY', 'primary_type'] = 'THEFT'\n",
    "\n",
    "dataset.loc[dataset['primary_type']=='BATTERY', 'primary_type'] = 'ASSAULT'\n",
    "dataset.loc[dataset['primary_type']=='HOMICIDE', 'primary_type'] = 'ASSAULT'\n",
    "dataset.loc[dataset['primary_type']=='INTIMIDATION', 'primary_type'] = 'ASSAULT'\n",
    "dataset.loc[dataset['primary_type']=='WEAPONS VIOLATION', 'primary_type'] = 'ASSAULT'\n",
    "dataset.loc[dataset['primary_type']=='CRIMINAL DAMAGE', 'primary_type'] = 'ASSAULT'\n",
    "dataset.loc[dataset['primary_type']=='ASSAULT', 'primary_type'] = 'ASSAULT'\n",
    "\n",
    "dataset.loc[dataset['primary_type']=='OTHER NARCOTIC VIOLATION', 'primary_type'] = 'DRUGS'\n",
    "dataset.loc[dataset['primary_type']=='NARCOTICS', 'primary_type'] = 'DRUGS'\n",
    "\n",
    "dataset.loc[dataset['primary_type']=='NON-CRIMINAL (SUBJECT SPECIFIED)', 'primary_type'] = 'NON-CRIMINAL'\n",
    "dataset.loc[dataset['primary_type']=='NON - CRIMINAL', 'primary_type'] = 'DRUGS'\n",
    "dataset.loc[dataset['primary_type']=='NON-CRIMINAL', 'primary_type'] = 'DRUGS'\n",
    "\n",
    "dataset.head()"
   ]
  },
  {
   "cell_type": "code",
   "execution_count": 7,
   "id": "73cf335db6db879e",
   "metadata": {
    "ExecuteTime": {
     "end_time": "2024-04-14T17:55:38.469159Z",
     "start_time": "2024-04-14T17:55:38.439148Z"
    }
   },
   "outputs": [],
   "source": [
    "dataset.drop(['Unnamed: 0',\"Description\",\"Comm_Area\"], axis=1, inplace=True)"
   ]
  },
  {
   "cell_type": "code",
   "execution_count": 8,
   "id": "bbf06dbdc1487e70",
   "metadata": {
    "ExecuteTime": {
     "end_time": "2024-04-14T17:55:41.328303Z",
     "start_time": "2024-04-14T17:55:38.470187Z"
    }
   },
   "outputs": [
    {
     "data": {
      "text/html": [
       "<div>\n",
       "<style scoped>\n",
       "    .dataframe tbody tr th:only-of-type {\n",
       "        vertical-align: middle;\n",
       "    }\n",
       "\n",
       "    .dataframe tbody tr th {\n",
       "        vertical-align: top;\n",
       "    }\n",
       "\n",
       "    .dataframe thead th {\n",
       "        text-align: right;\n",
       "    }\n",
       "</style>\n",
       "<table border=\"1\" class=\"dataframe\">\n",
       "  <thead>\n",
       "    <tr style=\"text-align: right;\">\n",
       "      <th></th>\n",
       "      <th>community_area</th>\n",
       "      <th>primary_type</th>\n",
       "      <th>Arrest</th>\n",
       "      <th>Domestic</th>\n",
       "      <th>location_description</th>\n",
       "      <th>Date</th>\n",
       "      <th>Hardship_Score</th>\n",
       "      <th>Crowded_Housing_Per</th>\n",
       "      <th>Below_Poverty_Household_Income</th>\n",
       "      <th>Unemployment_Rate</th>\n",
       "      <th>No_High_School_Diploma</th>\n",
       "      <th>Under_18_over_64</th>\n",
       "      <th>Per_Capita_Income</th>\n",
       "    </tr>\n",
       "  </thead>\n",
       "  <tbody>\n",
       "    <tr>\n",
       "      <th>0</th>\n",
       "      <td>63</td>\n",
       "      <td>OFFENSE AND KIDNAPPING</td>\n",
       "      <td>False</td>\n",
       "      <td>True</td>\n",
       "      <td>Residential Areas</td>\n",
       "      <td>2015-09-24T00:00:00.000000</td>\n",
       "      <td>65.3</td>\n",
       "      <td>12.1</td>\n",
       "      <td>18.5</td>\n",
       "      <td>13.7</td>\n",
       "      <td>22.4</td>\n",
       "      <td>39.0</td>\n",
       "      <td>13605.0</td>\n",
       "    </tr>\n",
       "    <tr>\n",
       "      <th>1</th>\n",
       "      <td>63</td>\n",
       "      <td>OFFENSE AND KIDNAPPING</td>\n",
       "      <td>False</td>\n",
       "      <td>True</td>\n",
       "      <td>Residential Areas</td>\n",
       "      <td>2014-09-07T00:00:00.000000</td>\n",
       "      <td>65.3</td>\n",
       "      <td>12.1</td>\n",
       "      <td>18.5</td>\n",
       "      <td>13.7</td>\n",
       "      <td>22.4</td>\n",
       "      <td>39.0</td>\n",
       "      <td>13605.0</td>\n",
       "    </tr>\n",
       "    <tr>\n",
       "      <th>2</th>\n",
       "      <td>30</td>\n",
       "      <td>OFFENSE AND KIDNAPPING</td>\n",
       "      <td>False</td>\n",
       "      <td>True</td>\n",
       "      <td>Residential Areas</td>\n",
       "      <td>2015-06-18T00:00:00.000000</td>\n",
       "      <td>70.6</td>\n",
       "      <td>13.6</td>\n",
       "      <td>30.3</td>\n",
       "      <td>8.7</td>\n",
       "      <td>28.8</td>\n",
       "      <td>35.3</td>\n",
       "      <td>11345.0</td>\n",
       "    </tr>\n",
       "    <tr>\n",
       "      <th>3</th>\n",
       "      <td>46</td>\n",
       "      <td>PUBLIC ORDER CRIMES</td>\n",
       "      <td>False</td>\n",
       "      <td>False</td>\n",
       "      <td>Residential Areas</td>\n",
       "      <td>2013-08-27T00:00:00.000000</td>\n",
       "      <td>54.9</td>\n",
       "      <td>3.4</td>\n",
       "      <td>28.9</td>\n",
       "      <td>20.3</td>\n",
       "      <td>11.6</td>\n",
       "      <td>41.1</td>\n",
       "      <td>16996.0</td>\n",
       "    </tr>\n",
       "    <tr>\n",
       "      <th>4</th>\n",
       "      <td>16</td>\n",
       "      <td>THEFT</td>\n",
       "      <td>False</td>\n",
       "      <td>False</td>\n",
       "      <td>Residential Areas</td>\n",
       "      <td>2017-07-14T00:30:00.000000</td>\n",
       "      <td>32.3</td>\n",
       "      <td>3.5</td>\n",
       "      <td>10.3</td>\n",
       "      <td>5.8</td>\n",
       "      <td>10.3</td>\n",
       "      <td>30.2</td>\n",
       "      <td>31043.0</td>\n",
       "    </tr>\n",
       "    <tr>\n",
       "      <th>...</th>\n",
       "      <td>...</td>\n",
       "      <td>...</td>\n",
       "      <td>...</td>\n",
       "      <td>...</td>\n",
       "      <td>...</td>\n",
       "      <td>...</td>\n",
       "      <td>...</td>\n",
       "      <td>...</td>\n",
       "      <td>...</td>\n",
       "      <td>...</td>\n",
       "      <td>...</td>\n",
       "      <td>...</td>\n",
       "      <td>...</td>\n",
       "    </tr>\n",
       "    <tr>\n",
       "      <th>1045246</th>\n",
       "      <td>68</td>\n",
       "      <td>PUBLIC ORDER CRIMES</td>\n",
       "      <td>False</td>\n",
       "      <td>False</td>\n",
       "      <td>NaN</td>\n",
       "      <td>2017-02-15T09:00:00.000000</td>\n",
       "      <td>70.5</td>\n",
       "      <td>4.0</td>\n",
       "      <td>42.4</td>\n",
       "      <td>34.1</td>\n",
       "      <td>16.1</td>\n",
       "      <td>41.5</td>\n",
       "      <td>12777.0</td>\n",
       "    </tr>\n",
       "    <tr>\n",
       "      <th>1045247</th>\n",
       "      <td>49</td>\n",
       "      <td>PUBLIC ORDER CRIMES</td>\n",
       "      <td>False</td>\n",
       "      <td>False</td>\n",
       "      <td>NaN</td>\n",
       "      <td>2016-05-15T15:00:00.000000</td>\n",
       "      <td>52.6</td>\n",
       "      <td>2.2</td>\n",
       "      <td>24.0</td>\n",
       "      <td>24.3</td>\n",
       "      <td>9.6</td>\n",
       "      <td>41.8</td>\n",
       "      <td>19755.0</td>\n",
       "    </tr>\n",
       "    <tr>\n",
       "      <th>1045248</th>\n",
       "      <td>48</td>\n",
       "      <td>PUBLIC ORDER CRIMES</td>\n",
       "      <td>False</td>\n",
       "      <td>False</td>\n",
       "      <td>NaN</td>\n",
       "      <td>2017-01-01T09:20:00.000000</td>\n",
       "      <td>38.4</td>\n",
       "      <td>2.0</td>\n",
       "      <td>13.7</td>\n",
       "      <td>12.3</td>\n",
       "      <td>8.1</td>\n",
       "      <td>37.8</td>\n",
       "      <td>27488.0</td>\n",
       "    </tr>\n",
       "    <tr>\n",
       "      <th>1045249</th>\n",
       "      <td>44</td>\n",
       "      <td>THEFT</td>\n",
       "      <td>False</td>\n",
       "      <td>True</td>\n",
       "      <td>Residential Areas</td>\n",
       "      <td>2017-09-08T10:00:00.000000</td>\n",
       "      <td>47.9</td>\n",
       "      <td>2.9</td>\n",
       "      <td>26.1</td>\n",
       "      <td>19.0</td>\n",
       "      <td>8.0</td>\n",
       "      <td>37.9</td>\n",
       "      <td>21416.0</td>\n",
       "    </tr>\n",
       "    <tr>\n",
       "      <th>1045250</th>\n",
       "      <td>42</td>\n",
       "      <td>PUBLIC ORDER CRIMES</td>\n",
       "      <td>False</td>\n",
       "      <td>False</td>\n",
       "      <td>Residential Areas</td>\n",
       "      <td>2016-05-01T10:00:00.000000</td>\n",
       "      <td>50.4</td>\n",
       "      <td>3.5</td>\n",
       "      <td>35.2</td>\n",
       "      <td>16.9</td>\n",
       "      <td>8.2</td>\n",
       "      <td>36.7</td>\n",
       "      <td>19117.0</td>\n",
       "    </tr>\n",
       "  </tbody>\n",
       "</table>\n",
       "<p>1045251 rows × 13 columns</p>\n",
       "</div>"
      ],
      "text/plain": [
       "         community_area            primary_type  Arrest  Domestic  \\\n",
       "0                    63  OFFENSE AND KIDNAPPING   False      True   \n",
       "1                    63  OFFENSE AND KIDNAPPING   False      True   \n",
       "2                    30  OFFENSE AND KIDNAPPING   False      True   \n",
       "3                    46     PUBLIC ORDER CRIMES   False     False   \n",
       "4                    16                   THEFT   False     False   \n",
       "...                 ...                     ...     ...       ...   \n",
       "1045246              68     PUBLIC ORDER CRIMES   False     False   \n",
       "1045247              49     PUBLIC ORDER CRIMES   False     False   \n",
       "1045248              48     PUBLIC ORDER CRIMES   False     False   \n",
       "1045249              44                   THEFT   False      True   \n",
       "1045250              42     PUBLIC ORDER CRIMES   False     False   \n",
       "\n",
       "        location_description                        Date  Hardship_Score  \\\n",
       "0          Residential Areas  2015-09-24T00:00:00.000000            65.3   \n",
       "1          Residential Areas  2014-09-07T00:00:00.000000            65.3   \n",
       "2          Residential Areas  2015-06-18T00:00:00.000000            70.6   \n",
       "3          Residential Areas  2013-08-27T00:00:00.000000            54.9   \n",
       "4          Residential Areas  2017-07-14T00:30:00.000000            32.3   \n",
       "...                      ...                         ...             ...   \n",
       "1045246                  NaN  2017-02-15T09:00:00.000000            70.5   \n",
       "1045247                  NaN  2016-05-15T15:00:00.000000            52.6   \n",
       "1045248                  NaN  2017-01-01T09:20:00.000000            38.4   \n",
       "1045249    Residential Areas  2017-09-08T10:00:00.000000            47.9   \n",
       "1045250    Residential Areas  2016-05-01T10:00:00.000000            50.4   \n",
       "\n",
       "         Crowded_Housing_Per  Below_Poverty_Household_Income  \\\n",
       "0                       12.1                            18.5   \n",
       "1                       12.1                            18.5   \n",
       "2                       13.6                            30.3   \n",
       "3                        3.4                            28.9   \n",
       "4                        3.5                            10.3   \n",
       "...                      ...                             ...   \n",
       "1045246                  4.0                            42.4   \n",
       "1045247                  2.2                            24.0   \n",
       "1045248                  2.0                            13.7   \n",
       "1045249                  2.9                            26.1   \n",
       "1045250                  3.5                            35.2   \n",
       "\n",
       "         Unemployment_Rate  No_High_School_Diploma  Under_18_over_64  \\\n",
       "0                     13.7                    22.4              39.0   \n",
       "1                     13.7                    22.4              39.0   \n",
       "2                      8.7                    28.8              35.3   \n",
       "3                     20.3                    11.6              41.1   \n",
       "4                      5.8                    10.3              30.2   \n",
       "...                    ...                     ...               ...   \n",
       "1045246               34.1                    16.1              41.5   \n",
       "1045247               24.3                     9.6              41.8   \n",
       "1045248               12.3                     8.1              37.8   \n",
       "1045249               19.0                     8.0              37.9   \n",
       "1045250               16.9                     8.2              36.7   \n",
       "\n",
       "         Per_Capita_Income  \n",
       "0                  13605.0  \n",
       "1                  13605.0  \n",
       "2                  11345.0  \n",
       "3                  16996.0  \n",
       "4                  31043.0  \n",
       "...                    ...  \n",
       "1045246            12777.0  \n",
       "1045247            19755.0  \n",
       "1045248            27488.0  \n",
       "1045249            21416.0  \n",
       "1045250            19117.0  \n",
       "\n",
       "[1045251 rows x 13 columns]"
      ]
     },
     "execution_count": 8,
     "metadata": {},
     "output_type": "execute_result"
    }
   ],
   "source": [
    "category_mapping = {\n",
    "\n",
    "    'Residential Areas': ['APARTMENT', 'RESIDENCE', 'RESIDENCE - YARD (FRONT / BACK)', 'RESIDENCE - PORCH / HALLWAY', 'RESIDENTIAL YARD (FRONT/BACK)', 'HOUSE', 'GARAGE', 'GANGWAY', 'PORCH', 'YARD', 'ROOMING HOUSE', 'RESIDENCE-GARAGE', 'CHA APARTMENT','HOTEL/MOTEL',\"RESIDENCE - GARAGE\"],\n",
    "\n",
    "    'Commercial Areas': ['COMMERCIAL / BUSINESS OFFICE', 'CURRENCY EXCHANGE', 'TAVERN / LIQUOR STORE', 'RESTAURANT', 'SMALL RETAIL STORE', 'BANK', 'GROCERY FOOD STORE', 'DRUG STORE', 'DEPARTMENT STORE', 'CONVENIENCE STORE', 'BARBERSHOP', 'RETAIL STORE', 'BARBER SHOP/BEAUTY SALON', 'CLUB', 'LIQUOR STORE', 'CLEANERS/LAUNDROMAT', 'CLEANING STORE', 'COIN OPERATED MACHINE', 'PAWN SHOP', 'NEWSSTAND', 'BOWLING ALLEY'],\n",
    "\n",
    "    'Public Spaces': ['PARK PROPERTY', 'PARK', 'PARK PROPERTY', 'AIRPORT BUILDING NON-TERMINAL - NON-SECURE AREA', 'AIRPORT EXTERIOR - NON-SECURE AREA', 'AIRPORT TERMINAL LOWER LEVEL - NON-SECURE AREA', 'AIRPORT TERMINAL UPPER LEVEL - NON-SECURE AREA', 'AIRPORT PARKING LOT', 'AIRPORT VENDING ESTABLISHMENT', 'FOREST PRESERVE', 'LAKEFRONT/WATERFRONT/RIVERBANK', 'CEMETERY'],\n",
    "\n",
    "    'Transportation': ['CTA TRAIN', 'CTA BUS', 'CTA BUS STOP', 'CTA PLATFORM', 'CTA TRACKS - RIGHT OF WAY', 'CTA STATION', 'CTA PARKING LOT / GARAGE / OTHER PROPERTY', 'CTA PROPERTY', 'VEHICLE NON-COMMERCIAL', 'VEHICLE - COMMERCIAL', 'VEHICLE - DELIVERY TRUCK', 'VEHICLE - OTHER RIDE SERVICE', 'VEHICLE - OTHER RIDE SHARE SERVICE (E.G., UBER, LYFT)', 'VEHICLE - OTHER RIDE SHARE SERVICE (LYFT, UBER, ETC.)', 'TAXICAB'],\n",
    "\n",
    "    'Educational Institutions': ['SCHOOL - PUBLIC BUILDING', 'SCHOOL - PRIVATE BUILDING', 'SCHOOL, PUBLIC, BUILDING', 'SCHOOL - PRIVATE GROUNDS', 'SCHOOL - PRIVATE GROUNDS', 'SCHOOL, PUBLIC, GROUNDS', 'SCHOOL YARD', 'COLLEGE/UNIVERSITY RESIDENCE HALL', 'COLLEGE/UNIVERSITY GROUNDS'],\n",
    "\n",
    "    'Miscellaneous Locations': ['ALLEY', 'VACANT LOT / LAND', 'ABANDONED BUILDING', 'VACANT LOT', 'EXPRESSWAY EMBANKMENT', 'RAILROAD PROPERTY', 'AIRPORT BUILDING NON-TERMINAL - SECURE AREA', 'AIRPORT TERMINAL UPPER LEVEL - SECURE AREA', 'AIRPORT TERMINAL LOWER LEVEL - SECURE AREA', 'AIRPORT TERMINAL MEZZANINE - NON-SECURE AREA', 'FEDERAL BUILDING', 'BRIDGE', 'AIRPORT/AIRCRAFT', 'HIGHWAY/EXPRESSWAY', 'AIRPORT TRANSPORTATION SYSTEM (ATS)', 'FIRE STATION', 'ANIMAL HOSPITAL', 'JAIL / LOCK-UP FACILITY', 'BOAT/WATERCRAFT']\n",
    "\n",
    "}\n",
    " \n",
    "category_mapping.update({\n",
    "\n",
    "    'Residential Areas': category_mapping['Residential Areas'] + ['RESIDENCE PORCH/HALLWAY', 'ROOMING HOUSE',\"HALLWAY\"],\n",
    "\n",
    "    'Commercial Areas': category_mapping['Commercial Areas'] + ['GAS STATION', 'APPLIANCE STORE', 'ATHLETIC CLUB', 'BAR OR TAVERN', 'HOTEL / MOTEL', 'AUTO / BOAT / RV DEALERSHIP', 'GARAGE/AUTO REPAIR', 'TAVERN/LIQUOR STORE', 'SPORTS ARENA/STADIUM', 'FACTORY/MANUFACTURING BUILDING', 'MEDICAL/DENTAL OFFICE', 'CREDIT UNION', 'ATM (AUTOMATIC TELLER MACHINE)', 'SAVINGS AND LOAN', 'MOVIE HOUSE/THEATER', 'VEHICLE-COMMERCIAL', 'DELIVERY TRUCK', 'MEDICAL / DENTAL OFFICE', 'MOVIE HOUSE / THEATER', 'FACTORY / MANUFACTURING BUILDING',],\n",
    "\n",
    "    'Public Spaces': category_mapping['Public Spaces'] + ['CHURCH / SYNAGOGUE / PLACE OF WORSHIP', 'HOSPITAL BUILDING / GROUNDS', 'PARKING LOT/GARAGE(NON.RESID.)', 'CHURCH', 'HOSPITAL', 'CEMETARY', 'CEMETERY', 'SPORTS ARENA / STADIUM', 'LAKEFRONT / WATERFRONT / RIVERBANK','HOSPITAL BUILDING/GROUNDS', 'HOSPITAL BUILDING / GROUNDS', 'MEDICAL/DENTAL OFFICE', 'MEDICAL / DENTAL OFFICE','ANIMAL HOSPITAL','CHURCH / SYNAGOGUE / PLACE OF WORSHIP', 'CHURCH/SYNAGOGUE/PLACE OF WORSHIP','POLICE FACILITY / VEHICLE PARKING LOT', 'GOVERNMENT BUILDING / PROPERTY', 'FEDERAL BUILDING', 'CHA PARKING LOT', 'FIRE STATION','PARKING LOT / GARAGE (NON RESIDENTIAL)', 'CHURCH/SYNAGOGUE/PLACE OF WORSHIP', 'CLUB', 'TAVERN', 'BARBERSHOP', 'POOL ROOM', 'BOWLING ALLEY', 'SPORTS ARENA/STADIUM','PARKING LOT', 'CHA PARKING LOT / GROUNDS', 'CHA PARKING LOT/GROUNDS','ANIMAL HOSPITAL','JAIL / LOCK-UP FACILITY',\"CHA HALLWAY/STAIRWELL/ELEVATOR\"],\n",
    "\n",
    "    'Transportation': category_mapping['Transportation'] + ['CTA GARAGE / OTHER PROPERTY', 'VEHICLE - OTHER RIDE SHARE SERVICE (E.G., UBER, LYFT)', 'AIRPORT EXTERIOR - SECURE AREA','AUTO / BOAT / RV DEALERSHIP', 'TRUCK', 'DELIVERY TRUCK', 'WAREHOUSE', 'GARAGE/AUTO REPAIR', 'CAR WASH','LAKEFRONT/WATERFRONT/RIVERBANK', 'BOAT/WATERCRAFT', 'BOAT / WATERCRAFT','TRUCK',\"AIRCRAFT\", \"AUTO\"],\n",
    "\n",
    "    'Educational Institutions': category_mapping['Educational Institutions'] + ['DAY CARE CENTER', 'SCHOOL, PRIVATE, BUILDING', 'SCHOOL - PUBLIC GROUNDS', 'SCHOOL, PRIVATE, GROUNDS'],\n",
    "\n",
    "    'Miscellaneous Locations': category_mapping['Miscellaneous Locations'] + ['VACANT LOT/LAND', 'POOL ROOM', 'OTHER COMMERCIAL TRANSPORTATION', 'WAREHOUSE', 'CONSTRUCTION SITE', 'OTHER RAILROAD PROP / TRAIN DEPOT', 'GOVERNMENT BUILDING/PROPERTY', 'LIBRARY', 'POLICE FACILITY/VEH PARKING LOT', 'NURSING / RETIREMENT HOME', 'BOAT / WATERCRAFT', 'CHA HALLWAY / STAIRWELL / ELEVATOR', 'OTHER RAILROAD PROPERTY / TRAIN DEPOT','BASEMENT'],\n",
    "\n",
    "    'Streets and Highways': ['STREET', 'SIDEWALK', 'HIGHWAY/EXPRESSWAY', 'DRIVEWAY', 'ALLEY', 'VESTIBULE', 'DRIVEWAY - RESIDENTIAL', 'GAS STATION DRIVE/PROP.', 'LAGOON', 'RIVER BANK', 'STAIRWELL', 'CAR WASH'],\n",
    "\n",
    "\n",
    "    'Other': ['OTHER', 'OTHER (SPECIFY)', 'OTHER COMMERCIAL TRANSPORTATION', 'OTHER RAILROAD PROP / TRAIN DEPOT']\n",
    "\n",
    "})\n",
    " \n",
    "# Reverse the mapping to create a dictionary for replacement\n",
    "\n",
    "reverse_mapping = {value: key for key, values in category_mapping.items() for value in values}\n",
    " \n",
    "# Replace the values in the 'Location' column with their respective categories\n",
    "\n",
    "dataset['location_description'] = dataset['location_description'].replace(reverse_mapping)\n",
    " \n",
    "# Print the transformed DataFrame\n",
    "\n",
    "dataset"
   ]
  },
  {
   "cell_type": "code",
   "execution_count": 9,
   "id": "7b8bfabcd22577d2",
   "metadata": {
    "ExecuteTime": {
     "end_time": "2024-04-14T17:55:42.132840Z",
     "start_time": "2024-04-14T17:55:41.329273Z"
    }
   },
   "outputs": [],
   "source": [
    "dataset[\"Date\"] = pd.to_datetime(dataset[\"Date\"])\n",
    "dataset['Hour'] = dataset['Date'].dt.hour\n",
    "dataset['Day'] = dataset['Date'].dt.day\n",
    "dataset['Month'] = dataset['Date'].dt.month"
   ]
  },
  {
   "cell_type": "code",
   "execution_count": 10,
   "id": "67fd8ca150a0c22e",
   "metadata": {
    "ExecuteTime": {
     "end_time": "2024-04-14T17:55:42.218369Z",
     "start_time": "2024-04-14T17:55:42.133889Z"
    }
   },
   "outputs": [
    {
     "data": {
      "image/png": "[encoded data removed]",
      "text/plain": [
       "<Figure size 640x480 with 1 Axes>"
      ]
     },
     "metadata": {},
     "output_type": "display_data"
    }
   ],
   "source": [
    "plt.show()\n",
    "community_area_counts = dataset['Hour'].value_counts()\n",
    "\n",
    "plt.bar(community_area_counts.index, community_area_counts)\n",
    "plt.title('statistique par Heure')\n",
    "plt.xlabel('Heure de crime')\n",
    "plt.ylabel('Nombre des crimes')\n",
    "plt.xticks(rotation=90)\n",
    "plt.show()"
   ]
  },
  {
   "cell_type": "code",
   "execution_count": 11,
   "id": "ea44989a8b4d15",
   "metadata": {
    "ExecuteTime": {
     "end_time": "2024-04-14T17:55:42.376172Z",
     "start_time": "2024-04-14T17:55:42.220368Z"
    }
   },
   "outputs": [
    {
     "data": {
      "image/png": "[encoded data removed]",
      "text/plain": [
       "<Figure size 640x480 with 1 Axes>"
      ]
     },
     "metadata": {},
     "output_type": "display_data"
    }
   ],
   "source": [
    "plt.show()\n",
    "community_area_counts = dataset['Month'].value_counts()\n",
    "\n",
    "plt.bar(community_area_counts.index, community_area_counts)\n",
    "plt.title('statistique par Mois')\n",
    "plt.xlabel('Mois de crime')\n",
    "plt.ylabel('Nombre des crimes')\n",
    "plt.xticks(rotation=90)\n",
    "plt.show()"
   ]
  },
  {
   "cell_type": "code",
   "execution_count": 12,
   "id": "ab7540d656bfb980",
   "metadata": {
    "ExecuteTime": {
     "end_time": "2024-04-14T17:55:43.026555Z",
     "start_time": "2024-04-14T17:55:42.377171Z"
    }
   },
   "outputs": [
    {
     "data": {
      "image/png": "[encoded data removed]",
      "text/plain": [
       "<Figure size 1000x600 with 1 Axes>"
      ]
     },
     "metadata": {},
     "output_type": "display_data"
    }
   ],
   "source": [
    "plt.show()\n",
    "crime_counts = dataset['community_area'].value_counts().sort_index()\n",
    "\n",
    "# Calculating average per capita income for each community area\n",
    "average_income = dataset.groupby('community_area')['Per_Capita_Income'].mean()\n",
    "\n",
    "# Plotting\n",
    "plt.figure(figsize=(10, 6))\n",
    "plt.bar(average_income.index, average_income, color='blue', alpha=0.7, label='moyenne de Revenu par habitant ')\n",
    "plt.bar(crime_counts.index, crime_counts, color='red', alpha=0.7, label='Nombre de crimes')\n",
    "plt.title(\"L'impact de Revenu par habitant sur le Nombre de Crime\")\n",
    "plt.xlabel('Community Area')\n",
    "plt.ylabel('Nombre des crimes')\n",
    "plt.legend()\n",
    "plt.tight_layout()\n",
    "plt.show()"
   ]
  },
  {
   "cell_type": "code",
   "execution_count": 13,
   "id": "ef1db3d2325fa33d",
   "metadata": {
    "ExecuteTime": {
     "end_time": "2024-04-14T17:55:43.235062Z",
     "start_time": "2024-04-14T17:55:43.027552Z"
    }
   },
   "outputs": [
    {
     "data": {
      "image/png": "[encoded data removed]",
      "text/plain": [
       "<Figure size 640x480 with 1 Axes>"
      ]
     },
     "metadata": {},
     "output_type": "display_data"
    }
   ],
   "source": [
    "dataset['day_of_week'] = dataset['Date'].dt.dayofweek\n",
    "day_counts = dataset['day_of_week'].value_counts().sort_index()\n",
    "day_diff = day_counts.diff().fillna(0)\n",
    "\n",
    "# Plot the difference using a line plot\n",
    "plt.plot(day_diff.index, day_diff, marker='o', linestyle='-')\n",
    "plt.title('Evolution de nombre de crimes entre les jours  consecutive de la semaine ')\n",
    "plt.xlabel('Jour de la semaine')\n",
    "plt.ylabel('Difference de nombre des crimes')\n",
    "plt.xticks(day_diff.index, ['Mon', 'Tue', 'Wed', 'Thu', 'Fri', 'Sat', 'Sun'])\n",
    "plt.grid(True)\n",
    "plt.show()"
   ]
  },
  {
   "cell_type": "code",
   "execution_count": 14,
   "id": "42703ca03e41a0d5",
   "metadata": {
    "ExecuteTime": {
     "end_time": "2024-04-14T17:55:43.456626Z",
     "start_time": "2024-04-14T17:55:43.236103Z"
    }
   },
   "outputs": [],
   "source": [
    "dataset.drop(['Date'], axis=1, inplace=True)"
   ]
  },
  {
   "cell_type": "code",
   "execution_count": 15,
   "id": "878d132c4cdf142",
   "metadata": {
    "ExecuteTime": {
     "end_time": "2024-04-14T17:55:43.581376Z",
     "start_time": "2024-04-14T17:55:43.459622Z"
    }
   },
   "outputs": [],
   "source": [
    "dataset[\"location_description\"].value_counts()\n",
    "day_map = {\n",
    "    0: 'Monday',\n",
    "    1: 'Tuesday',\n",
    "    2: 'Wednesday',\n",
    "    3: 'Thursday',\n",
    "    4: 'Friday',\n",
    "    5: 'Saturday',\n",
    "    6: 'Sunday'\n",
    "}\n",
    "\n",
    "# Map the numerical values in the 'day_of_the_week' column to day names\n",
    "dataset['week_days'] = dataset['day_of_week'].map(day_map)\n"
   ]
  },
  {
   "cell_type": "code",
   "execution_count": 16,
   "id": "242f049dac9b9f6d",
   "metadata": {
    "ExecuteTime": {
     "end_time": "2024-04-14T17:55:43.723372Z",
     "start_time": "2024-04-14T17:55:43.594376Z"
    }
   },
   "outputs": [],
   "source": [
    "bins = [0, 5, 16, 20]  # [night, day, evening, night]\n",
    "\n",
    "# Define labels for each category\n",
    "labels = ['night', 'day', 'evening']\n",
    "\n",
    "# Create a new column with categorized values\n",
    "dataset['time_of_day'] = pd.cut(dataset['Hour'], bins=bins, labels=labels, right=False)\n",
    "dataset['time_of_day'].fillna(\"night\", inplace=True)"
   ]
  },
  {
   "cell_type": "code",
   "execution_count": 17,
   "id": "9f39f30a54037a65",
   "metadata": {
    "ExecuteTime": {
     "end_time": "2024-04-14T17:55:43.913365Z",
     "start_time": "2024-04-14T17:55:43.726371Z"
    }
   },
   "outputs": [
    {
     "data": {
      "image/png": "[encoded data removed]",
      "text/plain": [
       "<Figure size 640x480 with 1 Axes>"
      ]
     },
     "metadata": {},
     "output_type": "display_data"
    }
   ],
   "source": [
    "plt.show()\n",
    "community_area_counts = dataset['time_of_day'].value_counts()\n",
    "\n",
    "plt.bar(community_area_counts.index, community_area_counts)\n",
    "plt.title('statistique par periode de la journée')\n",
    "plt.xlabel('Periode de crime')\n",
    "plt.ylabel('Nombre des crimes')\n",
    "plt.xticks(rotation=90)\n",
    "plt.show()"
   ]
  },
  {
   "cell_type": "code",
   "execution_count": 18,
   "id": "ecc53de58d067888",
   "metadata": {
    "ExecuteTime": {
     "end_time": "2024-04-14T17:55:44.205640Z",
     "start_time": "2024-04-14T17:55:43.914362Z"
    }
   },
   "outputs": [
    {
     "data": {
      "text/html": [
       "<div>\n",
       "<style scoped>\n",
       "    .dataframe tbody tr th:only-of-type {\n",
       "        vertical-align: middle;\n",
       "    }\n",
       "\n",
       "    .dataframe tbody tr th {\n",
       "        vertical-align: top;\n",
       "    }\n",
       "\n",
       "    .dataframe thead th {\n",
       "        text-align: right;\n",
       "    }\n",
       "</style>\n",
       "<table border=\"1\" class=\"dataframe\">\n",
       "  <thead>\n",
       "    <tr style=\"text-align: right;\">\n",
       "      <th></th>\n",
       "      <th>community_area</th>\n",
       "      <th>primary_type</th>\n",
       "      <th>Domestic</th>\n",
       "      <th>location_description</th>\n",
       "      <th>Hardship_Score</th>\n",
       "      <th>Crowded_Housing_Per</th>\n",
       "      <th>Below_Poverty_Household_Income</th>\n",
       "      <th>Unemployment_Rate</th>\n",
       "      <th>No_High_School_Diploma</th>\n",
       "      <th>Under_18_over_64</th>\n",
       "      <th>Per_Capita_Income</th>\n",
       "      <th>week_days</th>\n",
       "      <th>time_of_day</th>\n",
       "    </tr>\n",
       "  </thead>\n",
       "  <tbody>\n",
       "    <tr>\n",
       "      <th>0</th>\n",
       "      <td>63</td>\n",
       "      <td>OFFENSE AND KIDNAPPING</td>\n",
       "      <td>True</td>\n",
       "      <td>Residential Areas</td>\n",
       "      <td>65.3</td>\n",
       "      <td>12.1</td>\n",
       "      <td>18.5</td>\n",
       "      <td>13.7</td>\n",
       "      <td>22.4</td>\n",
       "      <td>39.0</td>\n",
       "      <td>13605.0</td>\n",
       "      <td>Thursday</td>\n",
       "      <td>night</td>\n",
       "    </tr>\n",
       "    <tr>\n",
       "      <th>1</th>\n",
       "      <td>63</td>\n",
       "      <td>OFFENSE AND KIDNAPPING</td>\n",
       "      <td>True</td>\n",
       "      <td>Residential Areas</td>\n",
       "      <td>65.3</td>\n",
       "      <td>12.1</td>\n",
       "      <td>18.5</td>\n",
       "      <td>13.7</td>\n",
       "      <td>22.4</td>\n",
       "      <td>39.0</td>\n",
       "      <td>13605.0</td>\n",
       "      <td>Sunday</td>\n",
       "      <td>night</td>\n",
       "    </tr>\n",
       "    <tr>\n",
       "      <th>2</th>\n",
       "      <td>30</td>\n",
       "      <td>OFFENSE AND KIDNAPPING</td>\n",
       "      <td>True</td>\n",
       "      <td>Residential Areas</td>\n",
       "      <td>70.6</td>\n",
       "      <td>13.6</td>\n",
       "      <td>30.3</td>\n",
       "      <td>8.7</td>\n",
       "      <td>28.8</td>\n",
       "      <td>35.3</td>\n",
       "      <td>11345.0</td>\n",
       "      <td>Thursday</td>\n",
       "      <td>night</td>\n",
       "    </tr>\n",
       "    <tr>\n",
       "      <th>3</th>\n",
       "      <td>46</td>\n",
       "      <td>PUBLIC ORDER CRIMES</td>\n",
       "      <td>False</td>\n",
       "      <td>Residential Areas</td>\n",
       "      <td>54.9</td>\n",
       "      <td>3.4</td>\n",
       "      <td>28.9</td>\n",
       "      <td>20.3</td>\n",
       "      <td>11.6</td>\n",
       "      <td>41.1</td>\n",
       "      <td>16996.0</td>\n",
       "      <td>Tuesday</td>\n",
       "      <td>night</td>\n",
       "    </tr>\n",
       "    <tr>\n",
       "      <th>4</th>\n",
       "      <td>16</td>\n",
       "      <td>THEFT</td>\n",
       "      <td>False</td>\n",
       "      <td>Residential Areas</td>\n",
       "      <td>32.3</td>\n",
       "      <td>3.5</td>\n",
       "      <td>10.3</td>\n",
       "      <td>5.8</td>\n",
       "      <td>10.3</td>\n",
       "      <td>30.2</td>\n",
       "      <td>31043.0</td>\n",
       "      <td>Friday</td>\n",
       "      <td>night</td>\n",
       "    </tr>\n",
       "    <tr>\n",
       "      <th>...</th>\n",
       "      <td>...</td>\n",
       "      <td>...</td>\n",
       "      <td>...</td>\n",
       "      <td>...</td>\n",
       "      <td>...</td>\n",
       "      <td>...</td>\n",
       "      <td>...</td>\n",
       "      <td>...</td>\n",
       "      <td>...</td>\n",
       "      <td>...</td>\n",
       "      <td>...</td>\n",
       "      <td>...</td>\n",
       "      <td>...</td>\n",
       "    </tr>\n",
       "    <tr>\n",
       "      <th>1045246</th>\n",
       "      <td>68</td>\n",
       "      <td>PUBLIC ORDER CRIMES</td>\n",
       "      <td>False</td>\n",
       "      <td>NaN</td>\n",
       "      <td>70.5</td>\n",
       "      <td>4.0</td>\n",
       "      <td>42.4</td>\n",
       "      <td>34.1</td>\n",
       "      <td>16.1</td>\n",
       "      <td>41.5</td>\n",
       "      <td>12777.0</td>\n",
       "      <td>Wednesday</td>\n",
       "      <td>day</td>\n",
       "    </tr>\n",
       "    <tr>\n",
       "      <th>1045247</th>\n",
       "      <td>49</td>\n",
       "      <td>PUBLIC ORDER CRIMES</td>\n",
       "      <td>False</td>\n",
       "      <td>NaN</td>\n",
       "      <td>52.6</td>\n",
       "      <td>2.2</td>\n",
       "      <td>24.0</td>\n",
       "      <td>24.3</td>\n",
       "      <td>9.6</td>\n",
       "      <td>41.8</td>\n",
       "      <td>19755.0</td>\n",
       "      <td>Sunday</td>\n",
       "      <td>day</td>\n",
       "    </tr>\n",
       "    <tr>\n",
       "      <th>1045248</th>\n",
       "      <td>48</td>\n",
       "      <td>PUBLIC ORDER CRIMES</td>\n",
       "      <td>False</td>\n",
       "      <td>NaN</td>\n",
       "      <td>38.4</td>\n",
       "      <td>2.0</td>\n",
       "      <td>13.7</td>\n",
       "      <td>12.3</td>\n",
       "      <td>8.1</td>\n",
       "      <td>37.8</td>\n",
       "      <td>27488.0</td>\n",
       "      <td>Sunday</td>\n",
       "      <td>day</td>\n",
       "    </tr>\n",
       "    <tr>\n",
       "      <th>1045249</th>\n",
       "      <td>44</td>\n",
       "      <td>THEFT</td>\n",
       "      <td>True</td>\n",
       "      <td>Residential Areas</td>\n",
       "      <td>47.9</td>\n",
       "      <td>2.9</td>\n",
       "      <td>26.1</td>\n",
       "      <td>19.0</td>\n",
       "      <td>8.0</td>\n",
       "      <td>37.9</td>\n",
       "      <td>21416.0</td>\n",
       "      <td>Friday</td>\n",
       "      <td>day</td>\n",
       "    </tr>\n",
       "    <tr>\n",
       "      <th>1045250</th>\n",
       "      <td>42</td>\n",
       "      <td>PUBLIC ORDER CRIMES</td>\n",
       "      <td>False</td>\n",
       "      <td>Residential Areas</td>\n",
       "      <td>50.4</td>\n",
       "      <td>3.5</td>\n",
       "      <td>35.2</td>\n",
       "      <td>16.9</td>\n",
       "      <td>8.2</td>\n",
       "      <td>36.7</td>\n",
       "      <td>19117.0</td>\n",
       "      <td>Sunday</td>\n",
       "      <td>day</td>\n",
       "    </tr>\n",
       "  </tbody>\n",
       "</table>\n",
       "<p>1045251 rows × 13 columns</p>\n",
       "</div>"
      ],
      "text/plain": [
       "         community_area            primary_type  Domestic  \\\n",
       "0                    63  OFFENSE AND KIDNAPPING      True   \n",
       "1                    63  OFFENSE AND KIDNAPPING      True   \n",
       "2                    30  OFFENSE AND KIDNAPPING      True   \n",
       "3                    46     PUBLIC ORDER CRIMES     False   \n",
       "4                    16                   THEFT     False   \n",
       "...                 ...                     ...       ...   \n",
       "1045246              68     PUBLIC ORDER CRIMES     False   \n",
       "1045247              49     PUBLIC ORDER CRIMES     False   \n",
       "1045248              48     PUBLIC ORDER CRIMES     False   \n",
       "1045249              44                   THEFT      True   \n",
       "1045250              42     PUBLIC ORDER CRIMES     False   \n",
       "\n",
       "        location_description  Hardship_Score  Crowded_Housing_Per  \\\n",
       "0          Residential Areas            65.3                 12.1   \n",
       "1          Residential Areas            65.3                 12.1   \n",
       "2          Residential Areas            70.6                 13.6   \n",
       "3          Residential Areas            54.9                  3.4   \n",
       "4          Residential Areas            32.3                  3.5   \n",
       "...                      ...             ...                  ...   \n",
       "1045246                  NaN            70.5                  4.0   \n",
       "1045247                  NaN            52.6                  2.2   \n",
       "1045248                  NaN            38.4                  2.0   \n",
       "1045249    Residential Areas            47.9                  2.9   \n",
       "1045250    Residential Areas            50.4                  3.5   \n",
       "\n",
       "         Below_Poverty_Household_Income  Unemployment_Rate  \\\n",
       "0                                  18.5               13.7   \n",
       "1                                  18.5               13.7   \n",
       "2                                  30.3                8.7   \n",
       "3                                  28.9               20.3   \n",
       "4                                  10.3                5.8   \n",
       "...                                 ...                ...   \n",
       "1045246                            42.4               34.1   \n",
       "1045247                            24.0               24.3   \n",
       "1045248                            13.7               12.3   \n",
       "1045249                            26.1               19.0   \n",
       "1045250                            35.2               16.9   \n",
       "\n",
       "         No_High_School_Diploma  Under_18_over_64  Per_Capita_Income  \\\n",
       "0                          22.4              39.0            13605.0   \n",
       "1                          22.4              39.0            13605.0   \n",
       "2                          28.8              35.3            11345.0   \n",
       "3                          11.6              41.1            16996.0   \n",
       "4                          10.3              30.2            31043.0   \n",
       "...                         ...               ...                ...   \n",
       "1045246                    16.1              41.5            12777.0   \n",
       "1045247                     9.6              41.8            19755.0   \n",
       "1045248                     8.1              37.8            27488.0   \n",
       "1045249                     8.0              37.9            21416.0   \n",
       "1045250                     8.2              36.7            19117.0   \n",
       "\n",
       "         week_days time_of_day  \n",
       "0         Thursday       night  \n",
       "1           Sunday       night  \n",
       "2         Thursday       night  \n",
       "3          Tuesday       night  \n",
       "4           Friday       night  \n",
       "...            ...         ...  \n",
       "1045246  Wednesday         day  \n",
       "1045247     Sunday         day  \n",
       "1045248     Sunday         day  \n",
       "1045249     Friday         day  \n",
       "1045250     Sunday         day  \n",
       "\n",
       "[1045251 rows x 13 columns]"
      ]
     },
     "execution_count": 18,
     "metadata": {},
     "output_type": "execute_result"
    }
   ],
   "source": [
    "dataset = dataset.drop(\"Arrest\",axis=1)\n",
    "dataset = dataset.drop(\"Day\",axis=1)\n",
    "dataset = dataset.drop(\"Month\",axis=1)\n",
    "dataset = dataset.drop(\"Hour\",axis=1)\n",
    "dataset = dataset.drop(\"day_of_week\",axis=1)\n",
    "dataset"
   ]
  },
  {
   "cell_type": "code",
   "execution_count": 19,
   "id": "b2ac539cf2707dd6",
   "metadata": {
    "ExecuteTime": {
     "end_time": "2024-04-14T17:55:44.325332Z",
     "start_time": "2024-04-14T17:55:44.206636Z"
    }
   },
   "outputs": [
    {
     "data": {
      "text/plain": [
       "community_area                       0\n",
       "primary_type                         0\n",
       "Domestic                             0\n",
       "location_description              3845\n",
       "Hardship_Score                       0\n",
       "Crowded_Housing_Per                  0\n",
       "Below_Poverty_Household_Income       0\n",
       "Unemployment_Rate                    0\n",
       "No_High_School_Diploma               0\n",
       "Under_18_over_64                     0\n",
       "Per_Capita_Income                    0\n",
       "week_days                            0\n",
       "time_of_day                          0\n",
       "dtype: int64"
      ]
     },
     "execution_count": 19,
     "metadata": {},
     "output_type": "execute_result"
    }
   ],
   "source": [
    "dataset.isnull().sum()"
   ]
  },
  {
   "cell_type": "code",
   "execution_count": 20,
   "id": "db251600a4e1baab",
   "metadata": {
    "ExecuteTime": {
     "end_time": "2024-04-14T17:55:44.510111Z",
     "start_time": "2024-04-14T17:55:44.326326Z"
    }
   },
   "outputs": [],
   "source": [
    "dataset = dataset.dropna()"
   ]
  },
  {
   "cell_type": "markdown",
   "id": "70fa5ff2e84f077d",
   "metadata": {},
   "source": [
    "## Modelisation"
   ]
  },
  {
   "cell_type": "code",
   "execution_count": 21,
   "id": "9d22265040d46c7f",
   "metadata": {
    "ExecuteTime": {
     "end_time": "2024-04-14T18:05:58.361164Z",
     "start_time": "2024-04-14T18:05:58.324780Z"
    }
   },
   "outputs": [],
   "source": [
    "numerical_data = dataset[[\"Domestic\",\"Hardship_Score\",\"Crowded_Housing_Per\",\"Below_Poverty_Household_Income\",\"Unemployment_Rate\",\"No_High_School_Diploma\",\"Under_18_over_64\",\"Per_Capita_Income\",]]\n",
    "categorical_data = dataset[['primary_type',\"location_description\",\"week_days\",\"time_of_day\"]]"
   ]
  },
  {
   "cell_type": "code",
   "execution_count": 22,
   "id": "d9cb2458b0c0867b",
   "metadata": {
    "ExecuteTime": {
     "end_time": "2024-04-14T18:05:59.659950Z",
     "start_time": "2024-04-14T18:05:58.775444Z"
    }
   },
   "outputs": [],
   "source": [
    "numerical_columns = numerical_data.columns\n",
    "categorical_columns = categorical_data.columns\n",
    "\n",
    "# Standardize numerical variables\n",
    "scaler = StandardScaler()\n",
    "scaled_numerical_data = scaler.fit_transform(numerical_data)\n",
    "scaled_numerical_data = pd.DataFrame(scaled_numerical_data, columns=numerical_columns)\n",
    "\n",
    "# One-hot encoding for categorical variables\n",
    "encoded_categorical_data = pd.get_dummies(categorical_data)\n",
    "\n",
    "# Combine column names after preprocessing\n",
    "final_columns = list(scaled_numerical_data.columns) + list(encoded_categorical_data.columns)\n",
    "\n",
    "# Concatenate preprocessed numerical and categorical data\n",
    "final_data = pd.concat([scaled_numerical_data, encoded_categorical_data], axis=1)"
   ]
  },
  {
   "cell_type": "code",
   "execution_count": 23,
   "id": "a21e4c819b8abf77",
   "metadata": {
    "ExecuteTime": {
     "end_time": "2024-04-14T18:06:00.913614Z",
     "start_time": "2024-04-14T18:05:59.965245Z"
    }
   },
   "outputs": [],
   "source": [
    "final_data = final_data.dropna()"
   ]
  },
  {
   "cell_type": "code",
   "execution_count": 24,
   "id": "25eeb2dc79a60178",
   "metadata": {
    "ExecuteTime": {
     "end_time": "2024-04-14T18:06:00.919122Z",
     "start_time": "2024-04-14T18:06:00.914611Z"
    }
   },
   "outputs": [],
   "source": [
    "def calculate_WSS(points, kmax, kmin):\n",
    "    points_array = points.values.astype(np.float32)  # Convert DataFrame to NumPy array\n",
    "    \n",
    "    sse = []\n",
    "    for k in range(kmin, kmax + 1):\n",
    "        kmeans = KMeans(n_clusters=k)\n",
    "        kmeans.fit(points_array)\n",
    "        \n",
    "        centroids = kmeans.cluster_centers_\n",
    "        pred_clusters = kmeans.predict(points_array)\n",
    "        \n",
    "        # Initialize an array to store the squared distances for each cluster\n",
    "        cluster_sse = np.zeros(k)\n",
    "        for i in range(len(points)):\n",
    "            cluster_sse[pred_clusters[i]] += np.sum((points_array[i] - centroids[pred_clusters[i]]) ** 2)\n",
    "        \n",
    "        sse.append(cluster_sse)\n",
    "        print(\"Iteration avec \" + str(k) + \" clusters\")\n",
    "        \n",
    "    return sse"
   ]
  },
  {
   "cell_type": "code",
   "execution_count": 25,
   "id": "f7816da8e977e828",
   "metadata": {
    "ExecuteTime": {
     "end_time": "2024-04-14T18:08:34.606316Z",
     "start_time": "2024-04-14T18:07:09.856712Z"
    }
   },
   "outputs": [
    {
     "name": "stderr",
     "output_type": "stream",
     "text": [
      "C:\\Users\\K-1\\anaconda3\\Lib\\site-packages\\sklearn\\cluster\\_kmeans.py:1412: FutureWarning: The default value of `n_init` will change from 10 to 'auto' in 1.4. Set the value of `n_init` explicitly to suppress the warning\n",
      "  super()._check_params_vs_input(X, default_n_init=10)\n"
     ]
    },
    {
     "name": "stdout",
     "output_type": "stream",
     "text": [
      "Iteration avec 1 clusters\n"
     ]
    },
    {
     "name": "stderr",
     "output_type": "stream",
     "text": [
      "C:\\Users\\K-1\\anaconda3\\Lib\\site-packages\\sklearn\\cluster\\_kmeans.py:1412: FutureWarning: The default value of `n_init` will change from 10 to 'auto' in 1.4. Set the value of `n_init` explicitly to suppress the warning\n",
      "  super()._check_params_vs_input(X, default_n_init=10)\n"
     ]
    },
    {
     "name": "stdout",
     "output_type": "stream",
     "text": [
      "Iteration avec 2 clusters\n"
     ]
    },
    {
     "name": "stderr",
     "output_type": "stream",
     "text": [
      "C:\\Users\\K-1\\anaconda3\\Lib\\site-packages\\sklearn\\cluster\\_kmeans.py:1412: FutureWarning: The default value of `n_init` will change from 10 to 'auto' in 1.4. Set the value of `n_init` explicitly to suppress the warning\n",
      "  super()._check_params_vs_input(X, default_n_init=10)\n"
     ]
    },
    {
     "name": "stdout",
     "output_type": "stream",
     "text": [
      "Iteration avec 3 clusters\n"
     ]
    },
    {
     "name": "stderr",
     "output_type": "stream",
     "text": [
      "C:\\Users\\K-1\\anaconda3\\Lib\\site-packages\\sklearn\\cluster\\_kmeans.py:1412: FutureWarning: The default value of `n_init` will change from 10 to 'auto' in 1.4. Set the value of `n_init` explicitly to suppress the warning\n",
      "  super()._check_params_vs_input(X, default_n_init=10)\n"
     ]
    },
    {
     "name": "stdout",
     "output_type": "stream",
     "text": [
      "Iteration avec 4 clusters\n"
     ]
    },
    {
     "name": "stderr",
     "output_type": "stream",
     "text": [
      "C:\\Users\\K-1\\anaconda3\\Lib\\site-packages\\sklearn\\cluster\\_kmeans.py:1412: FutureWarning: The default value of `n_init` will change from 10 to 'auto' in 1.4. Set the value of `n_init` explicitly to suppress the warning\n",
      "  super()._check_params_vs_input(X, default_n_init=10)\n"
     ]
    },
    {
     "name": "stdout",
     "output_type": "stream",
     "text": [
      "Iteration avec 5 clusters\n"
     ]
    },
    {
     "name": "stderr",
     "output_type": "stream",
     "text": [
      "C:\\Users\\K-1\\anaconda3\\Lib\\site-packages\\sklearn\\cluster\\_kmeans.py:1412: FutureWarning: The default value of `n_init` will change from 10 to 'auto' in 1.4. Set the value of `n_init` explicitly to suppress the warning\n",
      "  super()._check_params_vs_input(X, default_n_init=10)\n"
     ]
    },
    {
     "name": "stdout",
     "output_type": "stream",
     "text": [
      "Iteration avec 6 clusters\n"
     ]
    },
    {
     "name": "stderr",
     "output_type": "stream",
     "text": [
      "C:\\Users\\K-1\\anaconda3\\Lib\\site-packages\\sklearn\\cluster\\_kmeans.py:1412: FutureWarning: The default value of `n_init` will change from 10 to 'auto' in 1.4. Set the value of `n_init` explicitly to suppress the warning\n",
      "  super()._check_params_vs_input(X, default_n_init=10)\n"
     ]
    },
    {
     "name": "stdout",
     "output_type": "stream",
     "text": [
      "Iteration avec 7 clusters\n"
     ]
    },
    {
     "name": "stderr",
     "output_type": "stream",
     "text": [
      "C:\\Users\\K-1\\anaconda3\\Lib\\site-packages\\sklearn\\cluster\\_kmeans.py:1412: FutureWarning: The default value of `n_init` will change from 10 to 'auto' in 1.4. Set the value of `n_init` explicitly to suppress the warning\n",
      "  super()._check_params_vs_input(X, default_n_init=10)\n"
     ]
    },
    {
     "name": "stdout",
     "output_type": "stream",
     "text": [
      "Iteration avec 8 clusters\n"
     ]
    },
    {
     "name": "stderr",
     "output_type": "stream",
     "text": [
      "C:\\Users\\K-1\\anaconda3\\Lib\\site-packages\\sklearn\\cluster\\_kmeans.py:1412: FutureWarning: The default value of `n_init` will change from 10 to 'auto' in 1.4. Set the value of `n_init` explicitly to suppress the warning\n",
      "  super()._check_params_vs_input(X, default_n_init=10)\n"
     ]
    },
    {
     "name": "stdout",
     "output_type": "stream",
     "text": [
      "Iteration avec 9 clusters\n"
     ]
    },
    {
     "name": "stderr",
     "output_type": "stream",
     "text": [
      "C:\\Users\\K-1\\anaconda3\\Lib\\site-packages\\sklearn\\cluster\\_kmeans.py:1412: FutureWarning: The default value of `n_init` will change from 10 to 'auto' in 1.4. Set the value of `n_init` explicitly to suppress the warning\n",
      "  super()._check_params_vs_input(X, default_n_init=10)\n"
     ]
    },
    {
     "name": "stdout",
     "output_type": "stream",
     "text": [
      "Iteration avec 10 clusters\n"
     ]
    },
    {
     "name": "stderr",
     "output_type": "stream",
     "text": [
      "C:\\Users\\K-1\\anaconda3\\Lib\\site-packages\\sklearn\\cluster\\_kmeans.py:1412: FutureWarning: The default value of `n_init` will change from 10 to 'auto' in 1.4. Set the value of `n_init` explicitly to suppress the warning\n",
      "  super()._check_params_vs_input(X, default_n_init=10)\n"
     ]
    },
    {
     "name": "stdout",
     "output_type": "stream",
     "text": [
      "Iteration avec 11 clusters\n"
     ]
    },
    {
     "name": "stderr",
     "output_type": "stream",
     "text": [
      "C:\\Users\\K-1\\anaconda3\\Lib\\site-packages\\sklearn\\cluster\\_kmeans.py:1412: FutureWarning: The default value of `n_init` will change from 10 to 'auto' in 1.4. Set the value of `n_init` explicitly to suppress the warning\n",
      "  super()._check_params_vs_input(X, default_n_init=10)\n"
     ]
    },
    {
     "name": "stdout",
     "output_type": "stream",
     "text": [
      "Iteration avec 12 clusters\n"
     ]
    },
    {
     "name": "stderr",
     "output_type": "stream",
     "text": [
      "C:\\Users\\K-1\\anaconda3\\Lib\\site-packages\\sklearn\\cluster\\_kmeans.py:1412: FutureWarning: The default value of `n_init` will change from 10 to 'auto' in 1.4. Set the value of `n_init` explicitly to suppress the warning\n",
      "  super()._check_params_vs_input(X, default_n_init=10)\n"
     ]
    },
    {
     "name": "stdout",
     "output_type": "stream",
     "text": [
      "Iteration avec 13 clusters\n"
     ]
    },
    {
     "name": "stderr",
     "output_type": "stream",
     "text": [
      "C:\\Users\\K-1\\anaconda3\\Lib\\site-packages\\sklearn\\cluster\\_kmeans.py:1412: FutureWarning: The default value of `n_init` will change from 10 to 'auto' in 1.4. Set the value of `n_init` explicitly to suppress the warning\n",
      "  super()._check_params_vs_input(X, default_n_init=10)\n"
     ]
    },
    {
     "name": "stdout",
     "output_type": "stream",
     "text": [
      "Iteration avec 14 clusters\n"
     ]
    },
    {
     "name": "stderr",
     "output_type": "stream",
     "text": [
      "C:\\Users\\K-1\\anaconda3\\Lib\\site-packages\\sklearn\\cluster\\_kmeans.py:1412: FutureWarning: The default value of `n_init` will change from 10 to 'auto' in 1.4. Set the value of `n_init` explicitly to suppress the warning\n",
      "  super()._check_params_vs_input(X, default_n_init=10)\n"
     ]
    },
    {
     "name": "stdout",
     "output_type": "stream",
     "text": [
      "Iteration avec 15 clusters\n"
     ]
    },
    {
     "name": "stderr",
     "output_type": "stream",
     "text": [
      "C:\\Users\\K-1\\anaconda3\\Lib\\site-packages\\sklearn\\cluster\\_kmeans.py:1412: FutureWarning: The default value of `n_init` will change from 10 to 'auto' in 1.4. Set the value of `n_init` explicitly to suppress the warning\n",
      "  super()._check_params_vs_input(X, default_n_init=10)\n"
     ]
    },
    {
     "name": "stdout",
     "output_type": "stream",
     "text": [
      "Iteration avec 16 clusters\n"
     ]
    },
    {
     "name": "stderr",
     "output_type": "stream",
     "text": [
      "C:\\Users\\K-1\\anaconda3\\Lib\\site-packages\\sklearn\\cluster\\_kmeans.py:1412: FutureWarning: The default value of `n_init` will change from 10 to 'auto' in 1.4. Set the value of `n_init` explicitly to suppress the warning\n",
      "  super()._check_params_vs_input(X, default_n_init=10)\n"
     ]
    },
    {
     "name": "stdout",
     "output_type": "stream",
     "text": [
      "Iteration avec 17 clusters\n"
     ]
    },
    {
     "name": "stderr",
     "output_type": "stream",
     "text": [
      "C:\\Users\\K-1\\anaconda3\\Lib\\site-packages\\sklearn\\cluster\\_kmeans.py:1412: FutureWarning: The default value of `n_init` will change from 10 to 'auto' in 1.4. Set the value of `n_init` explicitly to suppress the warning\n",
      "  super()._check_params_vs_input(X, default_n_init=10)\n"
     ]
    },
    {
     "name": "stdout",
     "output_type": "stream",
     "text": [
      "Iteration avec 18 clusters\n"
     ]
    },
    {
     "name": "stderr",
     "output_type": "stream",
     "text": [
      "C:\\Users\\K-1\\anaconda3\\Lib\\site-packages\\sklearn\\cluster\\_kmeans.py:1412: FutureWarning: The default value of `n_init` will change from 10 to 'auto' in 1.4. Set the value of `n_init` explicitly to suppress the warning\n",
      "  super()._check_params_vs_input(X, default_n_init=10)\n"
     ]
    },
    {
     "name": "stdout",
     "output_type": "stream",
     "text": [
      "Iteration avec 19 clusters\n"
     ]
    },
    {
     "name": "stderr",
     "output_type": "stream",
     "text": [
      "C:\\Users\\K-1\\anaconda3\\Lib\\site-packages\\sklearn\\cluster\\_kmeans.py:1412: FutureWarning: The default value of `n_init` will change from 10 to 'auto' in 1.4. Set the value of `n_init` explicitly to suppress the warning\n",
      "  super()._check_params_vs_input(X, default_n_init=10)\n"
     ]
    },
    {
     "name": "stdout",
     "output_type": "stream",
     "text": [
      "Iteration avec 20 clusters\n"
     ]
    }
   ],
   "source": [
    "sse = calculate_WSS(final_data, kmax=20, kmin=1)"
   ]
  },
  {
   "cell_type": "code",
   "execution_count": 26,
   "id": "7c08248d1a73021f",
   "metadata": {
    "ExecuteTime": {
     "end_time": "2024-04-14T18:08:34.688772Z",
     "start_time": "2024-04-14T18:08:34.607339Z"
    }
   },
   "outputs": [
    {
     "data": {
      "image/png": "[encoded data removed]",
      "text/plain": [
       "<Figure size 640x480 with 1 Axes>"
      ]
     },
     "metadata": {},
     "output_type": "display_data"
    }
   ],
   "source": [
    "wss = [sum(cluster_sse) for cluster_sse in sse]\n",
    "\n",
    "# Plot the WSS against the number of clusters (K)\n",
    "plt.plot(range(1, len(wss) + 1), wss, marker='o')\n",
    "plt.title('Elbow Method for Optimal K')\n",
    "plt.xlabel('Number of Clusters (K)')\n",
    "plt.ylabel('Within-Cluster Sum of Squares (WSS)')\n",
    "plt.show()"
   ]
  },
  {
   "cell_type": "code",
   "execution_count": null,
   "id": "74b1916b2af5f126",
   "metadata": {
    "ExecuteTime": {
     "end_time": "2024-04-14T18:15:20.280388Z",
     "start_time": "2024-04-14T18:15:17.791820Z"
    }
   },
   "outputs": [
    {
     "name": "stderr",
     "output_type": "stream",
     "text": [
      "C:\\Users\\K-1\\anaconda3\\Lib\\site-packages\\sklearn\\cluster\\_kmeans.py:1412: FutureWarning: The default value of `n_init` will change from 10 to 'auto' in 1.4. Set the value of `n_init` explicitly to suppress the warning\n",
      "  super()._check_params_vs_input(X, default_n_init=10)\n"
     ]
    }
   ],
   "source": [
    "kmeans = KMeans(n_clusters=3, random_state=42)\n",
    "cluster_labels = kmeans.fit_predict(final_data)"
   ]
  },
  {
   "cell_type": "code",
   "execution_count": null,
   "id": "3733c990ef260972",
   "metadata": {
    "ExecuteTime": {
     "end_time": "2024-04-14T18:15:20.287955Z",
     "start_time": "2024-04-14T18:15:20.281385Z"
    }
   },
   "outputs": [],
   "source": [
    "column_names = list(final_data.columns)\n",
    "centroids = kmeans.cluster_centers_\n",
    "\n",
    "# Identify important features\n",
    "feature_importance = np.abs(centroids[0] - centroids[1])\n",
    "\n",
    "# Rank features\n",
    "sorted_indices = np.argsort(feature_importance)[::-1]\n",
    "\n",
    "# Map indices to real column names\n",
    "important_features_names = [column_names[idx] for idx in sorted_indices]\n",
    "\n",
    "# Print mapped feature importance\n",
    "print(\"Mapped Feature Importance:\")\n",
    "for name, importance in zip(important_features_names, feature_importance[sorted_indices]):\n",
    "    print(f\"{name}: {importance}\")"
   ]
  },
  {
   "cell_type": "code",
   "execution_count": null,
   "id": "32510a64574ef7d9",
   "metadata": {
    "ExecuteTime": {
     "end_time": "2024-04-14T18:15:22.631814Z",
     "start_time": "2024-04-14T18:15:20.288951Z"
    }
   },
   "outputs": [],
   "source": [
    "final_data['clusters'] = kmeans.fit_predict(final_data)\n",
    "final_data.value_counts(\"clusters\").plot(kind='bar')"
   ]
  },
  {
   "cell_type": "code",
   "execution_count": null,
   "id": "a9852924f0cafad8",
   "metadata": {
    "ExecuteTime": {
     "end_time": "2024-04-14T18:15:27.107837Z",
     "start_time": "2024-04-14T18:15:22.632812Z"
    }
   },
   "outputs": [],
   "source": [
    "dataset = final_data.copy()\n",
    "dataset['clusters'] = kmeans.fit_predict(final_data)\n",
    "# Assuming 'final_data' is your DataFrame\n",
    " \n",
    "# List of original values/columns for 'primary_type'\n",
    "primary_type_cols = [col for col in dataset.columns if col.startswith('primary_type_')]\n",
    "# Convert back to categorical column\n",
    "dataset['primary_type'] = dataset[primary_type_cols].idxmax(axis=1)\n",
    "dataset['primary_type'] = dataset['primary_type'].apply(lambda x: x.split('primary_type_')[1])\n",
    " \n",
    "# List of original values/columns for 'location_description'\n",
    "location_description_cols = [col for col in dataset.columns if col.startswith('location_description_')]\n",
    "# Convert back to categorical column\n",
    "dataset['location_description'] = dataset[location_description_cols].idxmax(axis=1)\n",
    "dataset['location_description'] = dataset['location_description'].apply(lambda x: x.split('location_description_')[1])\n",
    "\n",
    "week_days_cols = [col for col in dataset.columns if col.startswith('week_days_')]\n",
    "# Convert back to categorical column\n",
    "dataset['week_days'] = dataset[week_days_cols].idxmax(axis=1)\n",
    "dataset['week_days'] = dataset['week_days'].apply(lambda x: x.split('week_days_')[1])\n",
    "\n",
    "\n",
    "\n",
    "time_of_day_cols = [col for col in dataset.columns if col.startswith('time_of_day_')]\n",
    "# Convert back to categorical column\n",
    "dataset['time_of_day'] = dataset[time_of_day_cols].idxmax(axis=1)\n",
    "dataset['time_of_day'] = dataset['time_of_day'].apply(lambda x: x.split('time_of_day_')[1])\n",
    " \n",
    "# Drop the one-hot encoded columns from the DataFrame\n",
    "dataset.drop(columns=primary_type_cols + location_description_cols + time_of_day_cols + week_days_cols , inplace=True)\n",
    "inverse_scaled_numerical_data = pd.DataFrame(scaler.inverse_transform(scaled_numerical_data), columns=numerical_columns)\n",
    "\n",
    "\n",
    "# Concatenate inverse transformed numerical and categorical data\n",
    "final_inverse_data = pd.concat([inverse_scaled_numerical_data], axis=1)\n",
    "\n",
    "categorical_data = dataset[[\"location_description\",\"primary_type\",\"clusters\",\"week_days\",\"time_of_day\"]]\n",
    "dataset = pd.concat([inverse_scaled_numerical_data,categorical_data], axis=1)"
   ]
  },
  {
   "cell_type": "markdown",
   "id": "47749b3df32efbb9",
   "metadata": {},
   "source": [
    "## Interpretation des Resultats"
   ]
  },
  {
   "cell_type": "code",
   "execution_count": null,
   "id": "170789236d6618de",
   "metadata": {
    "ExecuteTime": {
     "end_time": "2024-04-14T18:15:39.070980Z",
     "start_time": "2024-04-14T18:15:27.108835Z"
    }
   },
   "outputs": [],
   "source": [
    "# Extract the two most important features\n",
    "feature1 = 'Per_Capita_Income'  # Replace 'Feature1' with the name of the first important feature\n",
    "feature2 = 'Hardship_Score'  # Replace 'Feature2' with the name of the second important feature\n",
    "\n",
    "# Assign each data point to its respective cluster\n",
    "clusters = dataset['clusters']\n",
    "\n",
    "# Plot the clusters\n",
    "plt.figure(figsize=(10, 6))\n",
    "plt.scatter(dataset[feature1], dataset[feature2], c=clusters, cmap='viridis', marker='o', alpha=0.5)\n",
    "plt.xlabel(feature1)\n",
    "plt.ylabel(feature2)\n",
    "plt.title('K-means Clustering Results')\n"
   ]
  },
  {
   "cell_type": "code",
   "execution_count": null,
   "id": "91761e82941acb3c",
   "metadata": {
    "ExecuteTime": {
     "end_time": "2024-04-14T18:17:50.336772Z",
     "start_time": "2024-04-14T18:17:49.122094Z"
    }
   },
   "outputs": [],
   "source": [
    "plt.figure(figsize=(8, 6))\n",
    "sns.boxplot(x='clusters', y='Unemployment_Rate', data=dataset)\n",
    "plt.title('Box Plot of Unemployment_Rate Based on the clustering')\n",
    "plt.xlabel('Cluster')\n",
    "plt.ylabel('Unemployment_Rate')\n",
    "plt.show()"
   ]
  },
  {
   "cell_type": "code",
   "execution_count": null,
   "id": "ab1ce8198f44a9ee",
   "metadata": {
    "ExecuteTime": {
     "end_time": "2024-04-14T18:18:02.377089Z",
     "start_time": "2024-04-14T18:18:01.147580Z"
    }
   },
   "outputs": [],
   "source": [
    "plt.show()\n",
    "plt.figure(figsize=(8, 6))\n",
    "sns.boxplot(x='clusters', y='Hardship_Score', data=dataset)\n",
    "plt.title('Box Plot of Hardship_Score Based on the clustering')\n",
    "plt.xlabel('Cluster')\n",
    "plt.ylabel('Hardship_Score')\n",
    "plt.show()"
   ]
  },
  {
   "cell_type": "code",
   "execution_count": null,
   "id": "4d445f1862214611",
   "metadata": {
    "ExecuteTime": {
     "end_time": "2024-04-14T18:18:13.982910Z",
     "start_time": "2024-04-14T18:18:12.633113Z"
    }
   },
   "outputs": [],
   "source": [
    "plt.figure(figsize=(8, 6))\n",
    "sns.boxplot(x='clusters', y='Below_Poverty_Household_Income', data=dataset)\n",
    "plt.title('Box Plot of Below_Poverty_Household_Income Based on the clustering')\n",
    "plt.xlabel('Cluster')\n",
    "plt.ylabel('Below_Poverty_Household_Income')\n",
    "plt.show()"
   ]
  },
  {
   "cell_type": "code",
   "execution_count": null,
   "id": "26c7177fdafa44c3",
   "metadata": {
    "ExecuteTime": {
     "end_time": "2024-04-14T18:18:32.673066Z",
     "start_time": "2024-04-14T18:18:31.329012Z"
    }
   },
   "outputs": [],
   "source": [
    "plt.show()\n",
    "plt.figure(figsize=(8, 6))\n",
    "sns.boxplot(x='clusters', y='No_High_School_Diploma', data=dataset)\n",
    "plt.title('Box Plot of No_High_School_Diploma Based on the clustering')\n",
    "plt.xlabel('Cluster')\n",
    "plt.ylabel('No_High_School_Diploma')\n",
    "plt.show()"
   ]
  },
  {
   "cell_type": "code",
   "execution_count": null,
   "id": "ad1c1058cb49c42e",
   "metadata": {
    "ExecuteTime": {
     "end_time": "2024-04-14T18:18:43.357697Z",
     "start_time": "2024-04-14T18:18:42.178167Z"
    }
   },
   "outputs": [],
   "source": [
    "plt.show()\n",
    "plt.figure(figsize=(8, 6))\n",
    "sns.boxplot(x='clusters', y='Per_Capita_Income', data=dataset)\n",
    "plt.title('Box Plot de Per_Capita_Income Basée on the clustering')\n",
    "plt.xlabel('Cluster')\n",
    "plt.ylabel('Per_Capita_Income')\n",
    "plt.show()"
   ]
  },
  {
   "cell_type": "code",
   "execution_count": null,
   "id": "c38d53e7b654323",
   "metadata": {
    "ExecuteTime": {
     "end_time": "2024-04-14T18:18:54.238597Z",
     "start_time": "2024-04-14T18:18:53.264603Z"
    }
   },
   "outputs": [],
   "source": [
    "import matplotlib.pyplot as plt\n",
    "\n",
    "group_counts = dataset.groupby('clusters')[\"primary_type\"].value_counts()\n",
    "unique_values = dataset['clusters'].unique()\n",
    "\n",
    "# Create a single figure outside the loop\n",
    "fig, axs = plt.subplots(nrows=len(unique_values), figsize=(10, 5 * len(unique_values)))\n",
    "\n",
    "for idx, value in enumerate(unique_values):\n",
    "    counts = group_counts[value]\n",
    "    ax = axs[idx] if len(unique_values) > 1 else axs  # Handle case with only one unique value\n",
    "    ax.pie(counts, labels=counts.index, autopct='%1.1f%%', startangle=140)\n",
    "    ax.set_title(f'Count of Group for Value {value}')\n",
    "\n",
    "plt.tight_layout()  # Adjust layout to prevent overlapping\n",
    "plt.show()\n"
   ]
  },
  {
   "cell_type": "code",
   "execution_count": null,
   "id": "4da6efb9ff2efda5",
   "metadata": {
    "ExecuteTime": {
     "end_time": "2024-04-14T18:19:24.920305Z",
     "start_time": "2024-04-14T18:19:24.876101Z"
    }
   },
   "outputs": [],
   "source": [
    "result = dataset.groupby([\"clusters\"]).agg({\n",
    "    \"Per_Capita_Income\": \"mean\", \n",
    "    \"Under_18_over_64\": \"mean\",\n",
    "    \"Hardship_Score\": \"mean\", \n",
    "    \"No_High_School_Diploma\": \"mean\",\n",
    "    \"clusters\": \"size\"  # Count occurrences of each cluster\n",
    "})\n",
    "result"
   ]
  },
  {
   "cell_type": "code",
   "execution_count": null,
   "id": "5839237756714465",
   "metadata": {
    "ExecuteTime": {
     "end_time": "2024-04-14T19:16:28.841103Z",
     "start_time": "2024-04-14T19:16:27.147852Z"
    }
   },
   "outputs": [],
   "source": [
    "# Plot count of time of the day per cluster\n",
    "plt.figure(figsize=(10, 6))\n",
    "sns.countplot(x='time_of_day', hue='clusters', data=dataset)\n",
    "plt.title('Count of Time of the Day per Cluster')\n",
    "plt.xlabel('Time of the Day')\n",
    "plt.ylabel('Count')\n",
    "plt.legend(title='Cluster')\n",
    "plt.show()"
   ]
  },
  {
   "cell_type": "code",
   "execution_count": null,
   "id": "beca646c23f41dfb",
   "metadata": {
    "ExecuteTime": {
     "end_time": "2024-04-14T19:16:42.160725Z",
     "start_time": "2024-04-14T19:16:40.535928Z"
    }
   },
   "outputs": [],
   "source": [
    "plt.figure(figsize=(10, 6))\n",
    "sns.countplot(x='week_days', hue='clusters', data=dataset)\n",
    "plt.title('Count of Days of the Week per Cluster')\n",
    "plt.xlabel('Day of the Week')\n",
    "plt.ylabel('Count')\n",
    "plt.legend(title='Cluster')\n",
    "plt.show()"
   ]
  },
  {
   "cell_type": "code",
   "execution_count": null,
   "id": "a5ffeb6ad4a5e79b",
   "metadata": {
    "ExecuteTime": {
     "end_time": "2024-04-14T19:38:09.086236Z",
     "start_time": "2024-04-14T19:38:09.064889Z"
    }
   },
   "outputs": [],
   "source": [
    "dataset"
   ]
  },
  {
   "cell_type": "code",
   "execution_count": null,
   "id": "bb96d9c36a2cf539",
   "metadata": {
    "ExecuteTime": {
     "end_time": "2024-04-14T19:38:40.441253Z",
     "start_time": "2024-04-14T19:38:34.537467Z"
    }
   },
   "outputs": [],
   "source": [
    "dataset.to_csv(\"./dataset_kmeans\")"
   ]
  },
  {
   "cell_type": "code",
   "execution_count": null,
   "id": "96fe82dd58c57a22",
   "metadata": {},
   "outputs": [],
   "source": []
  }
 ],
 "metadata": {
  "kernelspec": {
   "display_name": "Python 3 (ipykernel)",
   "language": "python",
   "name": "python3"
  },
  "language_info": {
   "codemirror_mode": {
    "name": "ipython",
    "version": 3
   },
   "file_extension": ".py",
   "mimetype": "text/x-python",
   "name": "python",
   "nbconvert_exporter": "python",
   "pygments_lexer": "ipython3",
   "version": "3.11.5"
  }
 },
 "nbformat": 4,
 "nbformat_minor": 5
}
