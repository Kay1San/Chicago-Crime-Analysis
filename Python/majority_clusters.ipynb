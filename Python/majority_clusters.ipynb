{
 "cells": [
  {
   "cell_type": "code",
   "execution_count": 1,
   "id": "d717880f",
   "metadata": {},
   "outputs": [],
   "source": [
    "import pandas as pd"
   ]
  },
  {
   "cell_type": "code",
   "execution_count": 2,
   "id": "ee1c1598",
   "metadata": {},
   "outputs": [
    {
     "name": "stdout",
     "output_type": "stream",
     "text": [
      "The CSV file has been created with the majority clusters for each community area.\n"
     ]
    }
   ],
   "source": [
    "data = pd.read_csv('dataset_final_kmeans.csv')  # Replace 'your_file.csv' with the path to your CSV file\n",
    "\n",
    "# Group by 'Comm_Area_No' and find the majority cluster\n",
    "result = data.groupby('Comm_Area_No')['clusters'].agg(lambda x: x.value_counts().idxmax()).reset_index()\n",
    "\n",
    "# Rename columns for clarity\n",
    "result.columns = ['Comm_Area_No', 'Majority_Cluster']\n",
    "\n",
    "# Save the result to a new CSV file\n",
    "result.to_csv('majority_clusters_per_comm_area.csv', index=False)\n",
    "\n",
    "print(\"The CSV file has been created with the majority clusters for each community area.\")"
   ]
  },
  {
   "cell_type": "code",
   "execution_count": 3,
   "id": "2a3820b3",
   "metadata": {},
   "outputs": [
    {
     "name": "stdout",
     "output_type": "stream",
     "text": [
      "The CSV file has been created with the counts of each cluster.\n"
     ]
    }
   ],
   "source": [
    "data = pd.read_csv('dataset_final_kmeans.csv')  # Replace 'your_file.csv' with the path to your CSV file\n",
    "\n",
    "# Count occurrences of each cluster\n",
    "cluster_counts = data['clusters'].value_counts().reset_index()\n",
    "cluster_counts.columns = ['Cluster', 'Count']\n",
    "\n",
    "# Save the result to a new CSV file\n",
    "cluster_counts.to_csv('cluster_counts.csv', index=False)\n",
    "\n",
    "print(\"The CSV file has been created with the counts of each cluster.\")"
   ]
  },
  {
   "cell_type": "code",
   "execution_count": 6,
   "id": "bd015171",
   "metadata": {},
   "outputs": [
    {
     "name": "stdout",
     "output_type": "stream",
     "text": [
      "clusters        0.0    1.0    2.0\n",
      "Comm_Area_No                     \n",
      "1                 0      0  15065\n",
      "2                 0  12108   2186\n",
      "3                 0      0  13868\n",
      "4                 0      0   8193\n",
      "5              6437      0      0\n",
      "6             24421      0      0\n",
      "7             18761      0      0\n",
      "8             40031      0      0\n",
      "9                 0      0   1209\n",
      "10                0      0   5243\n",
      "11                0      0   4778\n",
      "12                0      0   2185\n",
      "13                0      0   3801\n",
      "14                0      0  10381\n",
      "15                0      0  13970\n",
      "16                0      0  13231\n",
      "17                0      0   6911\n",
      "18                0      0   2557\n",
      "19                0  19238      0\n",
      "20                0  47850      0\n",
      "21                0      0   9985\n",
      "22                0      0  24673\n",
      "23                0  27565      0\n",
      "24            33873      0      0\n",
      "25                0  56977      0\n",
      "26                0  15720      0\n",
      "27                0  16898      0\n",
      "28                0      0  34458\n",
      "29                0  27898      0\n",
      "30                0  17647      0\n",
      "31                0  10630      0\n",
      "32            32730      0      0\n",
      "33             7460      0      0\n",
      "34                0   4510      0\n",
      "35                0   8253   1800\n",
      "36                0   2888      0\n",
      "37                0   3281      0\n",
      "38                0  13511      0\n",
      "39                0      0   6354\n",
      "40                0  11115      0\n",
      "41                0      0   7161\n",
      "42                0  14809      0\n",
      "43                0  35426      0\n",
      "44                0  23627      0\n",
      "45                0   5663      0\n",
      "46                0  18643      0\n",
      "47                0   1600      0\n",
      "48                0      0   6161\n",
      "49                0  26145      0\n",
      "50                0  12940   3972\n",
      "51                0   7410      0\n",
      "52                0   5132      0\n",
      "53                0  47850      0\n",
      "54                0   5092      0\n",
      "55                0      0   2557\n",
      "56                0      0   7839\n",
      "57                0   4065      0\n",
      "58                0  10134      0\n",
      "59                0  33512      0\n",
      "60                0      0   7061\n",
      "61                0  18164      0\n",
      "62                0   4528      0\n",
      "63                0   9540      0\n",
      "64                0      0   4132\n",
      "65                0   8003      0\n",
      "66                0  23418      0\n",
      "67                0  26532      0\n",
      "68                0  24448      0\n",
      "69                0  47850      0\n",
      "70                0      0  10871\n",
      "71                0  33512      0\n",
      "72                0      0   4175\n",
      "73                0  12940   3972\n",
      "74                0      0  24673\n",
      "75                0      0   8484\n",
      "76                0      0   6960\n",
      "77                0      0   9759\n"
     ]
    }
   ],
   "source": [
    "pd.set_option('display.max_rows', None)\n",
    "pd.set_option('display.max_columns', None)\n",
    "data = pd.read_csv('dataset_final_kmeans.csv')\n",
    "cluster_counts_per_area = data.groupby(['Comm_Area_No', 'clusters']).size().unstack(fill_value=0)\n",
    "\n",
    "# Print the result\n",
    "print(cluster_counts_per_area)"
   ]
  },
  {
   "cell_type": "code",
   "execution_count": 7,
   "id": "915e88be",
   "metadata": {},
   "outputs": [
    {
     "name": "stdout",
     "output_type": "stream",
     "text": [
      "The CSV file has been created with unique community areas and their per capita income.\n"
     ]
    }
   ],
   "source": [
    "import pandas as pd\n",
    "\n",
    "# Load your data\n",
    "data = pd.read_csv('dataset_final_kmeans.csv')  # Replace 'your_file.csv' with the path to your CSV file\n",
    "\n",
    "# Select unique combinations of 'Comm_Area_No' and 'Per_Capita_Income'\n",
    "unique_areas = data[['Comm_Area_No', 'Per_Capita_Income']].drop_duplicates()\n",
    "\n",
    "# Save the result to a new CSV file\n",
    "unique_areas.to_csv('unique_comm_area_income.csv', index=False)\n",
    "\n",
    "print(\"The CSV file has been created with unique community areas and their per capita income.\")\n"
   ]
  },
  {
   "cell_type": "code",
   "execution_count": 9,
   "id": "c8564803",
   "metadata": {},
   "outputs": [
    {
     "ename": "ValueError",
     "evalue": "Excel file format cannot be determined, you must specify an engine manually.",
     "output_type": "error",
     "traceback": [
      "\u001b[1;31m---------------------------------------------------------------------------\u001b[0m",
      "\u001b[1;31mValueError\u001b[0m                                Traceback (most recent call last)",
      "Cell \u001b[1;32mIn[9], line 5\u001b[0m\n\u001b[0;32m      1\u001b[0m \u001b[38;5;28;01mimport\u001b[39;00m \u001b[38;5;21;01mpandas\u001b[39;00m \u001b[38;5;28;01mas\u001b[39;00m \u001b[38;5;21;01mpd\u001b[39;00m\n\u001b[0;32m      3\u001b[0m \u001b[38;5;66;03m# Load the Excel data\u001b[39;00m\n\u001b[0;32m      4\u001b[0m \u001b[38;5;66;03m# Assuming the Excel file is already uploaded and file path is provided\u001b[39;00m\n\u001b[1;32m----> 5\u001b[0m data \u001b[38;5;241m=\u001b[39m pd\u001b[38;5;241m.\u001b[39mread_excel(\u001b[38;5;124m'\u001b[39m\u001b[38;5;124mmajority_clusters_per_comm_area.csv\u001b[39m\u001b[38;5;124m'\u001b[39m, dtype\u001b[38;5;241m=\u001b[39m\u001b[38;5;28mstr\u001b[39m)  \u001b[38;5;66;03m# Replace 'path_to_your_file.xlsx' with your file's path\u001b[39;00m\n\u001b[0;32m      7\u001b[0m \u001b[38;5;66;03m# Function to convert currency string to float\u001b[39;00m\n\u001b[0;32m      8\u001b[0m \u001b[38;5;28;01mdef\u001b[39;00m \u001b[38;5;21mconvert_currency_to_float\u001b[39m(currency_str):\n\u001b[0;32m      9\u001b[0m     \u001b[38;5;66;03m# Remove dollar sign and commas, then convert to float\u001b[39;00m\n",
      "File \u001b[1;32m~\\anaconda3\\Lib\\site-packages\\pandas\\io\\excel\\_base.py:478\u001b[0m, in \u001b[0;36mread_excel\u001b[1;34m(io, sheet_name, header, names, index_col, usecols, dtype, engine, converters, true_values, false_values, skiprows, nrows, na_values, keep_default_na, na_filter, verbose, parse_dates, date_parser, date_format, thousands, decimal, comment, skipfooter, storage_options, dtype_backend)\u001b[0m\n\u001b[0;32m    476\u001b[0m \u001b[38;5;28;01mif\u001b[39;00m \u001b[38;5;129;01mnot\u001b[39;00m \u001b[38;5;28misinstance\u001b[39m(io, ExcelFile):\n\u001b[0;32m    477\u001b[0m     should_close \u001b[38;5;241m=\u001b[39m \u001b[38;5;28;01mTrue\u001b[39;00m\n\u001b[1;32m--> 478\u001b[0m     io \u001b[38;5;241m=\u001b[39m ExcelFile(io, storage_options\u001b[38;5;241m=\u001b[39mstorage_options, engine\u001b[38;5;241m=\u001b[39mengine)\n\u001b[0;32m    479\u001b[0m \u001b[38;5;28;01melif\u001b[39;00m engine \u001b[38;5;129;01mand\u001b[39;00m engine \u001b[38;5;241m!=\u001b[39m io\u001b[38;5;241m.\u001b[39mengine:\n\u001b[0;32m    480\u001b[0m     \u001b[38;5;28;01mraise\u001b[39;00m \u001b[38;5;167;01mValueError\u001b[39;00m(\n\u001b[0;32m    481\u001b[0m         \u001b[38;5;124m\"\u001b[39m\u001b[38;5;124mEngine should not be specified when passing \u001b[39m\u001b[38;5;124m\"\u001b[39m\n\u001b[0;32m    482\u001b[0m         \u001b[38;5;124m\"\u001b[39m\u001b[38;5;124man ExcelFile - ExcelFile already has the engine set\u001b[39m\u001b[38;5;124m\"\u001b[39m\n\u001b[0;32m    483\u001b[0m     )\n",
      "File \u001b[1;32m~\\anaconda3\\Lib\\site-packages\\pandas\\io\\excel\\_base.py:1500\u001b[0m, in \u001b[0;36mExcelFile.__init__\u001b[1;34m(self, path_or_buffer, engine, storage_options)\u001b[0m\n\u001b[0;32m   1496\u001b[0m     ext \u001b[38;5;241m=\u001b[39m inspect_excel_format(\n\u001b[0;32m   1497\u001b[0m         content_or_path\u001b[38;5;241m=\u001b[39mpath_or_buffer, storage_options\u001b[38;5;241m=\u001b[39mstorage_options\n\u001b[0;32m   1498\u001b[0m     )\n\u001b[0;32m   1499\u001b[0m     \u001b[38;5;28;01mif\u001b[39;00m ext \u001b[38;5;129;01mis\u001b[39;00m \u001b[38;5;28;01mNone\u001b[39;00m:\n\u001b[1;32m-> 1500\u001b[0m         \u001b[38;5;28;01mraise\u001b[39;00m \u001b[38;5;167;01mValueError\u001b[39;00m(\n\u001b[0;32m   1501\u001b[0m             \u001b[38;5;124m\"\u001b[39m\u001b[38;5;124mExcel file format cannot be determined, you must specify \u001b[39m\u001b[38;5;124m\"\u001b[39m\n\u001b[0;32m   1502\u001b[0m             \u001b[38;5;124m\"\u001b[39m\u001b[38;5;124man engine manually.\u001b[39m\u001b[38;5;124m\"\u001b[39m\n\u001b[0;32m   1503\u001b[0m         )\n\u001b[0;32m   1505\u001b[0m engine \u001b[38;5;241m=\u001b[39m config\u001b[38;5;241m.\u001b[39mget_option(\u001b[38;5;124mf\u001b[39m\u001b[38;5;124m\"\u001b[39m\u001b[38;5;124mio.excel.\u001b[39m\u001b[38;5;132;01m{\u001b[39;00mext\u001b[38;5;132;01m}\u001b[39;00m\u001b[38;5;124m.reader\u001b[39m\u001b[38;5;124m\"\u001b[39m, silent\u001b[38;5;241m=\u001b[39m\u001b[38;5;28;01mTrue\u001b[39;00m)\n\u001b[0;32m   1506\u001b[0m \u001b[38;5;28;01mif\u001b[39;00m engine \u001b[38;5;241m==\u001b[39m \u001b[38;5;124m\"\u001b[39m\u001b[38;5;124mauto\u001b[39m\u001b[38;5;124m\"\u001b[39m:\n",
      "\u001b[1;31mValueError\u001b[0m: Excel file format cannot be determined, you must specify an engine manually."
     ]
    }
   ],
   "source": [
    "import pandas as pd\n",
    "\n",
    "# Load the Excel data\n",
    "# Assuming the Excel file is already uploaded and file path is provided\n",
    "data = pd.read_excel('majority_clusters_per_comm_area.csv', dtype=str)  # Replace 'path_to_your_file.xlsx' with your file's path\n",
    "\n",
    "# Function to convert currency string to float\n",
    "def convert_currency_to_float(currency_str):\n",
    "    # Remove dollar sign and commas, then convert to float\n",
    "    return float(currency_str.replace('$', '').replace(',', ''))\n",
    "\n",
    "# Apply the function to the 'Per_Capita_Income' column\n",
    "data['Per_Capita_Income'] = data['Per_Capita_Income'].apply(convert_currency_to_float)\n",
    "\n",
    "# Now 'Per_Capita_Income' column will have the values as floats\n",
    "print(data['Per_Capita_Income'])\n"
   ]
  },
  {
   "cell_type": "code",
   "execution_count": null,
   "id": "b961dd3b",
   "metadata": {},
   "outputs": [],
   "source": []
  }
 ],
 "metadata": {
  "kernelspec": {
   "display_name": "Python 3 (ipykernel)",
   "language": "python",
   "name": "python3"
  },
  "language_info": {
   "codemirror_mode": {
    "name": "ipython",
    "version": 3
   },
   "file_extension": ".py",
   "mimetype": "text/x-python",
   "name": "python",
   "nbconvert_exporter": "python",
   "pygments_lexer": "ipython3",
   "version": "3.11.5"
  }
 },
 "nbformat": 4,
 "nbformat_minor": 5
}
